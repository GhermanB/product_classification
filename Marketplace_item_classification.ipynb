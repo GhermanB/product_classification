{
  "cells": [
    {
      "cell_type": "markdown",
      "metadata": {
        "id": "NhWIvQ8mYrpa"
      },
      "source": [
        "# **Категоризация товаров**"
      ]
    },
    {
      "cell_type": "code",
      "execution_count": null,
      "metadata": {
        "id": "bC2ieWYaYU4a"
      },
      "outputs": [],
      "source": [
        "import pandas as pd\n",
        "import numpy as np\n",
        "import matplotlib.pyplot as plt\n",
        "import re\n",
        "from tqdm import tqdm\n",
        "import string"
      ]
    },
    {
      "cell_type": "code",
      "execution_count": null,
      "metadata": {
        "id": "4Zzn0x4f-qpP"
      },
      "outputs": [],
      "source": [
        "% matplotlib inline\n",
        "pd.options.mode.chained_assignment = None"
      ]
    },
    {
      "cell_type": "code",
      "execution_count": null,
      "metadata": {
        "colab": {
          "base_uri": "https://localhost:8080/"
        },
        "id": "3WgQGGFnYYmj",
        "outputId": "a79aec49-b938-406e-975c-7f60571ea97d"
      },
      "outputs": [
        {
          "output_type": "stream",
          "name": "stdout",
          "text": [
            "Requirement already satisfied: pyarrow in /usr/local/lib/python3.7/dist-packages (6.0.1)\n",
            "Requirement already satisfied: numpy>=1.16.6 in /usr/local/lib/python3.7/dist-packages (from pyarrow) (1.21.5)\n"
          ]
        }
      ],
      "source": [
        "!pip install pyarrow"
      ]
    },
    {
      "cell_type": "markdown",
      "metadata": {
        "id": "d0d1MMayY6Bu"
      },
      "source": [
        "# Работа с датасетом"
      ]
    },
    {
      "cell_type": "code",
      "execution_count": null,
      "metadata": {
        "id": "1IrgYb2MYaXh"
      },
      "outputs": [],
      "source": [
        "train_df = pd.read_parquet('train.parquet')\n",
        "cat_df = pd.read_csv('categories_tree.csv')"
      ]
    },
    {
      "cell_type": "code",
      "execution_count": null,
      "metadata": {
        "colab": {
          "base_uri": "https://localhost:8080/",
          "height": 439
        },
        "id": "Fmwe58y5YcRh",
        "outputId": "3f56cc7a-27fc-47a8-d43c-9ecff2647c5f"
      },
      "outputs": [
        {
          "data": {
            "text/html": [
              "<div>\n",
              "<style scoped>\n",
              "    .dataframe tbody tr th:only-of-type {\n",
              "        vertical-align: middle;\n",
              "    }\n",
              "\n",
              "    .dataframe tbody tr th {\n",
              "        vertical-align: top;\n",
              "    }\n",
              "\n",
              "    .dataframe thead th {\n",
              "        text-align: right;\n",
              "    }\n",
              "</style>\n",
              "<table border=\"1\" class=\"dataframe\">\n",
              "  <thead>\n",
              "    <tr style=\"text-align: right;\">\n",
              "      <th></th>\n",
              "      <th>id</th>\n",
              "      <th>title</th>\n",
              "      <th>short_description</th>\n",
              "      <th>name_value_characteristics</th>\n",
              "      <th>rating</th>\n",
              "      <th>feedback_quantity</th>\n",
              "      <th>category_id</th>\n",
              "    </tr>\n",
              "  </thead>\n",
              "  <tbody>\n",
              "    <tr>\n",
              "      <th>0</th>\n",
              "      <td>1267423</td>\n",
              "      <td>Muhle Manikure Песочные колпачки для педикюра ...</td>\n",
              "      <td>Muhle Manikure Колпачок песочный шлифовальный ...</td>\n",
              "      <td>None</td>\n",
              "      <td>0.000000</td>\n",
              "      <td>0</td>\n",
              "      <td>2693</td>\n",
              "    </tr>\n",
              "    <tr>\n",
              "      <th>1</th>\n",
              "      <td>128833</td>\n",
              "      <td>Sony Xperia L1 Защитное стекло 2,5D</td>\n",
              "      <td>None</td>\n",
              "      <td>None</td>\n",
              "      <td>4.666667</td>\n",
              "      <td>9</td>\n",
              "      <td>13408</td>\n",
              "    </tr>\n",
              "    <tr>\n",
              "      <th>2</th>\n",
              "      <td>569924</td>\n",
              "      <td>Конверт для денег Прекрасная роза, 16,5 х 8 см</td>\n",
              "      <td>Конверт для денег «Прекрасная роза», 16,5 × 8 см</td>\n",
              "      <td>None</td>\n",
              "      <td>5.000000</td>\n",
              "      <td>6</td>\n",
              "      <td>11790</td>\n",
              "    </tr>\n",
              "    <tr>\n",
              "      <th>3</th>\n",
              "      <td>1264824</td>\n",
              "      <td>Серьги</td>\n",
              "      <td>None</td>\n",
              "      <td>None</td>\n",
              "      <td>0.000000</td>\n",
              "      <td>0</td>\n",
              "      <td>14076</td>\n",
              "    </tr>\n",
              "    <tr>\n",
              "      <th>4</th>\n",
              "      <td>1339052</td>\n",
              "      <td>Наклейки на унитаз для туалета на крышку бачок...</td>\n",
              "      <td>Водостойкая, интересная наклейка на унитаз раз...</td>\n",
              "      <td>None</td>\n",
              "      <td>0.000000</td>\n",
              "      <td>0</td>\n",
              "      <td>12401</td>\n",
              "    </tr>\n",
              "  </tbody>\n",
              "</table>\n",
              "</div>"
            ],
            "text/plain": [
              "        id                                              title  \\\n",
              "0  1267423  Muhle Manikure Песочные колпачки для педикюра ...   \n",
              "1   128833                Sony Xperia L1 Защитное стекло 2,5D   \n",
              "2   569924     Конверт для денег Прекрасная роза, 16,5 х 8 см   \n",
              "3  1264824                                             Серьги   \n",
              "4  1339052  Наклейки на унитаз для туалета на крышку бачок...   \n",
              "\n",
              "                                   short_description  \\\n",
              "0  Muhle Manikure Колпачок песочный шлифовальный ...   \n",
              "1                                               None   \n",
              "2   Конверт для денег «Прекрасная роза», 16,5 × 8 см   \n",
              "3                                               None   \n",
              "4  Водостойкая, интересная наклейка на унитаз раз...   \n",
              "\n",
              "  name_value_characteristics    rating  feedback_quantity  category_id  \n",
              "0                       None  0.000000                  0         2693  \n",
              "1                       None  4.666667                  9        13408  \n",
              "2                       None  5.000000                  6        11790  \n",
              "3                       None  0.000000                  0        14076  \n",
              "4                       None  0.000000                  0        12401  "
            ]
          },
          "metadata": {},
          "output_type": "display_data"
        },
        {
          "data": {
            "text/html": [
              "<div>\n",
              "<style scoped>\n",
              "    .dataframe tbody tr th:only-of-type {\n",
              "        vertical-align: middle;\n",
              "    }\n",
              "\n",
              "    .dataframe tbody tr th {\n",
              "        vertical-align: top;\n",
              "    }\n",
              "\n",
              "    .dataframe thead th {\n",
              "        text-align: right;\n",
              "    }\n",
              "</style>\n",
              "<table border=\"1\" class=\"dataframe\">\n",
              "  <thead>\n",
              "    <tr style=\"text-align: right;\">\n",
              "      <th></th>\n",
              "      <th>id</th>\n",
              "      <th>title</th>\n",
              "      <th>parent_id</th>\n",
              "    </tr>\n",
              "  </thead>\n",
              "  <tbody>\n",
              "    <tr>\n",
              "      <th>0</th>\n",
              "      <td>1</td>\n",
              "      <td>Все категории</td>\n",
              "      <td>0</td>\n",
              "    </tr>\n",
              "    <tr>\n",
              "      <th>1</th>\n",
              "      <td>114</td>\n",
              "      <td>Урбеч</td>\n",
              "      <td>1913</td>\n",
              "    </tr>\n",
              "    <tr>\n",
              "      <th>2</th>\n",
              "      <td>115</td>\n",
              "      <td>Варенье и джемы</td>\n",
              "      <td>328</td>\n",
              "    </tr>\n",
              "    <tr>\n",
              "      <th>3</th>\n",
              "      <td>128</td>\n",
              "      <td>Сухие завтраки</td>\n",
              "      <td>2475</td>\n",
              "    </tr>\n",
              "    <tr>\n",
              "      <th>4</th>\n",
              "      <td>131</td>\n",
              "      <td>Масла</td>\n",
              "      <td>2475</td>\n",
              "    </tr>\n",
              "  </tbody>\n",
              "</table>\n",
              "</div>"
            ],
            "text/plain": [
              "    id            title  parent_id\n",
              "0    1    Все категории          0\n",
              "1  114            Урбеч       1913\n",
              "2  115  Варенье и джемы        328\n",
              "3  128   Сухие завтраки       2475\n",
              "4  131            Масла       2475"
            ]
          },
          "execution_count": 5,
          "metadata": {},
          "output_type": "execute_result"
        }
      ],
      "source": [
        "#Первый взгляд на загруженные данные\n",
        "display(train_df.head())\n",
        "cat_df.head()"
      ]
    },
    {
      "cell_type": "code",
      "execution_count": null,
      "metadata": {
        "colab": {
          "base_uri": "https://localhost:8080/"
        },
        "id": "_121X_iPYfmk",
        "outputId": "716dffad-ee5b-493c-a94c-ceadae64b3c4"
      },
      "outputs": [
        {
          "name": "stdout",
          "output_type": "stream",
          "text": [
            "(283452, 7)\n",
            "(3364, 3)\n"
          ]
        }
      ],
      "source": [
        "print(train_df.shape)\n",
        "print(cat_df.shape)"
      ]
    },
    {
      "cell_type": "code",
      "execution_count": null,
      "metadata": {
        "id": "LurflQLJYkI3"
      },
      "outputs": [],
      "source": [
        "#Создадим общую табличку и проанализируем важность колонок для категоризации\n",
        "merged_df = train_df.merge(cat_df, how='inner', left_on='category_id', right_on='id')\n",
        "merged_df = merged_df.drop('id_y', axis=1)\n",
        "col_map = {'id_x': 'id', 'title_x': 'item_title', 'title_y': 'cat_title', 'parent_id': 'cat_parent'}\n",
        "merged_df = merged_df.rename(columns=col_map)"
      ]
    },
    {
      "cell_type": "code",
      "execution_count": null,
      "metadata": {
        "colab": {
          "base_uri": "https://localhost:8080/",
          "height": 337
        },
        "id": "y5NKqbUNYotD",
        "outputId": "f1ecee17-e55d-44a4-d3b7-c8c6b52072bf"
      },
      "outputs": [
        {
          "data": {
            "text/html": [
              "<div>\n",
              "<style scoped>\n",
              "    .dataframe tbody tr th:only-of-type {\n",
              "        vertical-align: middle;\n",
              "    }\n",
              "\n",
              "    .dataframe tbody tr th {\n",
              "        vertical-align: top;\n",
              "    }\n",
              "\n",
              "    .dataframe thead th {\n",
              "        text-align: right;\n",
              "    }\n",
              "</style>\n",
              "<table border=\"1\" class=\"dataframe\">\n",
              "  <thead>\n",
              "    <tr style=\"text-align: right;\">\n",
              "      <th></th>\n",
              "      <th>id</th>\n",
              "      <th>item_title</th>\n",
              "      <th>short_description</th>\n",
              "      <th>name_value_characteristics</th>\n",
              "      <th>rating</th>\n",
              "      <th>feedback_quantity</th>\n",
              "      <th>category_id</th>\n",
              "      <th>cat_title</th>\n",
              "      <th>cat_parent</th>\n",
              "    </tr>\n",
              "  </thead>\n",
              "  <tbody>\n",
              "    <tr>\n",
              "      <th>228560</th>\n",
              "      <td>576813</td>\n",
              "      <td>Набор бутылочек 3шт 200мл 1шт 80мл</td>\n",
              "      <td>Заполняйте флаконы Вашими любимыми кремами, ша...</td>\n",
              "      <td>None</td>\n",
              "      <td>0.0</td>\n",
              "      <td>0</td>\n",
              "      <td>13201</td>\n",
              "      <td>Флаконы дорожные</td>\n",
              "      <td>11449</td>\n",
              "    </tr>\n",
              "    <tr>\n",
              "      <th>276885</th>\n",
              "      <td>1026370</td>\n",
              "      <td>Зарядное устройство Relato CH-P1640U/LP-E8/ дл...</td>\n",
              "      <td>Необычайно компактное и лёгкое зарядное устрой...</td>\n",
              "      <td>None</td>\n",
              "      <td>0.0</td>\n",
              "      <td>0</td>\n",
              "      <td>12843</td>\n",
              "      <td>Зарядные устройства</td>\n",
              "      <td>10765</td>\n",
              "    </tr>\n",
              "    <tr>\n",
              "      <th>199212</th>\n",
              "      <td>1311873</td>\n",
              "      <td>Belor Design Подводка для бровей  Color Brow ,...</td>\n",
              "      <td>Belor Design Подводка для бровей Color Brow</td>\n",
              "      <td>None</td>\n",
              "      <td>0.0</td>\n",
              "      <td>0</td>\n",
              "      <td>11984</td>\n",
              "      <td>Туши, тени, гели, помады для бровей</td>\n",
              "      <td>11015</td>\n",
              "    </tr>\n",
              "    <tr>\n",
              "      <th>39460</th>\n",
              "      <td>473976</td>\n",
              "      <td>Silicone Case Чехлы для Iphone XS MAX</td>\n",
              "      <td>None</td>\n",
              "      <td>None</td>\n",
              "      <td>0.0</td>\n",
              "      <td>0</td>\n",
              "      <td>11937</td>\n",
              "      <td>Чехлы</td>\n",
              "      <td>10398</td>\n",
              "    </tr>\n",
              "    <tr>\n",
              "      <th>72101</th>\n",
              "      <td>1310241</td>\n",
              "      <td>Резинка-пружинка для волос</td>\n",
              "      <td>Яркая резинка-пружинка для волос</td>\n",
              "      <td>None</td>\n",
              "      <td>0.0</td>\n",
              "      <td>0</td>\n",
              "      <td>12751</td>\n",
              "      <td>Резинки</td>\n",
              "      <td>10152</td>\n",
              "    </tr>\n",
              "  </tbody>\n",
              "</table>\n",
              "</div>"
            ],
            "text/plain": [
              "             id                                         item_title  \\\n",
              "228560   576813                 Набор бутылочек 3шт 200мл 1шт 80мл   \n",
              "276885  1026370  Зарядное устройство Relato CH-P1640U/LP-E8/ дл...   \n",
              "199212  1311873  Belor Design Подводка для бровей  Color Brow ,...   \n",
              "39460    473976              Silicone Case Чехлы для Iphone XS MAX   \n",
              "72101   1310241                         Резинка-пружинка для волос   \n",
              "\n",
              "                                        short_description  \\\n",
              "228560  Заполняйте флаконы Вашими любимыми кремами, ша...   \n",
              "276885  Необычайно компактное и лёгкое зарядное устрой...   \n",
              "199212        Belor Design Подводка для бровей Color Brow   \n",
              "39460                                                None   \n",
              "72101                    Яркая резинка-пружинка для волос   \n",
              "\n",
              "       name_value_characteristics  rating  feedback_quantity  category_id  \\\n",
              "228560                       None     0.0                  0        13201   \n",
              "276885                       None     0.0                  0        12843   \n",
              "199212                       None     0.0                  0        11984   \n",
              "39460                        None     0.0                  0        11937   \n",
              "72101                        None     0.0                  0        12751   \n",
              "\n",
              "                                  cat_title  cat_parent  \n",
              "228560                     Флаконы дорожные       11449  \n",
              "276885                  Зарядные устройства       10765  \n",
              "199212  Туши, тени, гели, помады для бровей       11015  \n",
              "39460                                 Чехлы       10398  \n",
              "72101                               Резинки       10152  "
            ]
          },
          "execution_count": 8,
          "metadata": {},
          "output_type": "execute_result"
        }
      ],
      "source": [
        "merged_df.sample(5)"
      ]
    },
    {
      "cell_type": "markdown",
      "metadata": {
        "id": "TwK8Fig5bSlD"
      },
      "source": [
        "**Колонки и их потенциальная важность**\n",
        "\n",
        "*   **id** - идентификатор самого товара, не несет важной информации, так как уникален для каждого объекта и не связан с другими элементами таблицы.\n",
        "*   **item_tile** - название товара, используемое для презентации и поиска карточки товара. Исходя из своих целей должно содержать ключевые слова и некоторое описание.\n",
        "*   **short_description** - короткое описание товара, не обязательно содержит ключевые слова. Но может добавлять полезную информацию более точно указывающую на категорию.\n",
        "*   **name_value_characteristics** - редко встречающееся поле с характеристиками. Не несет полезной для категоризации информации, так как разные товары могут разделять одинаковые характеристики (размер, цвет и т.д.)\n",
        "*   **rating и feedback_quantity** - оценка товара пользователем и количество оценок. Характеристики, которые можно использовать при рекомендации, но так как категоризация товара происходит во время его размещения, для нас указанные столбцы не важны.\n",
        "*   **category_id**\t- собственно номер категории, который мы и должны будем выяснить в данных для предикта.\n",
        "\n",
        "\n",
        "Исходя из таблицы категорий, каждой узкой категории соответствует более широкая категория-родитель. Используя прямое соответствие мы без проблем выберем категорию-родителя.\n",
        "\n",
        "\n",
        "\n"
      ]
    },
    {
      "cell_type": "markdown",
      "metadata": {
        "id": "WC6Z5J54ZLdD"
      },
      "source": [
        "**Постановка задачи**\n",
        "\n",
        "На основе изученных данных мы можем выявить, что наиболее важную информацию мы получаем из текстовой колонки item_title, но также улучшить метрику нам поможет колонка short_description\n",
        "\n",
        "Таким образом, задача следующая:\n",
        "\n",
        "1.   Подготовить датасет из item_title + short_description / category_id\n",
        "2.   Создать языковую модель, обученную на подготовленных данных\n",
        "3.   Предсказать узкие категории для тестовых данных\n",
        "4.   Радоваться :)\n",
        "\n",
        "\n",
        "\n"
      ]
    },
    {
      "cell_type": "markdown",
      "metadata": {
        "id": "W_oxdyPcZRvl"
      },
      "source": [
        "# Подготовка данных"
      ]
    },
    {
      "cell_type": "markdown",
      "source": [
        "*Дальнейшие действия для экономии времени можно не выполнять, сохраненный и подготовленный датасет можно загрузить в одном из блоков ниже*"
      ],
      "metadata": {
        "id": "j9EUTbCkoAZ9"
      }
    },
    {
      "cell_type": "code",
      "execution_count": null,
      "metadata": {
        "id": "I16MnlWvvDsL"
      },
      "outputs": [],
      "source": [
        "# Объединим колонки с полезной информацией\n",
        "merged_df['item_title'] = merged_df['item_title'].astype(str) + ' ' + merged_df['short_description'].astype(str)"
      ]
    },
    {
      "cell_type": "code",
      "execution_count": null,
      "metadata": {
        "id": "pz9YEJQrfyh2"
      },
      "outputs": [],
      "source": [
        "df = merged_df[['item_title', 'category_id']]"
      ]
    },
    {
      "cell_type": "code",
      "execution_count": null,
      "metadata": {
        "colab": {
          "base_uri": "https://localhost:8080/"
        },
        "id": "JCmn7sC_3iUG",
        "outputId": "379a8c62-4716-4246-9705-47eb5243d865"
      },
      "outputs": [
        {
          "name": "stdout",
          "output_type": "stream",
          "text": [
            "Отсутствуют данные:\n",
            "item_title     0\n",
            "category_id    0\n",
            "dtype: int64\n",
            "\n",
            "Количество дубликатов:\n",
            "28227\n"
          ]
        }
      ],
      "source": [
        "print(f'Отсутствуют данные:\\n{df.isna().sum()}\\n')\n",
        "print(f'Количество дубликатов:\\n{df.duplicated().sum()}')"
      ]
    },
    {
      "cell_type": "code",
      "execution_count": null,
      "metadata": {
        "id": "ZJ5qZuQ03iZ2"
      },
      "outputs": [],
      "source": [
        "# Так как размер датасета достаточно большой\n",
        "# строки с пропущенными значениями и дубликаты \n",
        "# на данном этапе можно удалить\n",
        "\n",
        "df = df.dropna()\n",
        "df = df.drop_duplicates()"
      ]
    },
    {
      "cell_type": "code",
      "execution_count": null,
      "metadata": {
        "colab": {
          "base_uri": "https://localhost:8080/"
        },
        "id": "Xo5v4ar63idV",
        "outputId": "4d52baa0-adc1-4da0-d947-5a929232939c"
      },
      "outputs": [
        {
          "name": "stdout",
          "output_type": "stream",
          "text": [
            "Отсутствуют данные:\n",
            "item_title     0\n",
            "category_id    0\n",
            "dtype: int64\n",
            "\n",
            "Количество дубликатов:\n",
            "0\n"
          ]
        }
      ],
      "source": [
        "print(f'Отсутствуют данные:\\n{df.isna().sum()}\\n')\n",
        "print(f'Количество дубликатов:\\n{df.duplicated().sum()}')"
      ]
    },
    {
      "cell_type": "code",
      "execution_count": null,
      "metadata": {
        "id": "yaO3utsn3ig1"
      },
      "outputs": [],
      "source": [
        "#Создадим функции для подготовки текстовых данных: \n",
        "    # - Уберем латиницу и цифры, так как зачастую это названия брендов и количество/размер, \n",
        "    # - Приведем все к нижнему регистру  \n",
        "\n",
        "def text_cleaning(df, title):\n",
        "    r = re.compile(\"[a-zA-Z0-9]+\\s|[a-zA-Z0-9]\")\n",
        "\n",
        "    for idx, row in tqdm(df.iterrows(), total=df.shape[0]):\n",
        "        text = row[title]\n",
        "        text = re.sub(r, ' ', text)\n",
        "        text = text.translate(str.maketrans(' ', ' ', string.punctuation))\n",
        "        text = text.lower()\n",
        "        df.loc[idx, title] = text\n",
        "        "
      ]
    },
    {
      "cell_type": "code",
      "execution_count": null,
      "metadata": {
        "colab": {
          "base_uri": "https://localhost:8080/"
        },
        "id": "0qLlO10K3s3K",
        "outputId": "35c8404e-066b-45ff-8f6a-f10d88ee46ff"
      },
      "outputs": [
        {
          "name": "stderr",
          "output_type": "stream",
          "text": [
            "100%|██████████| 254814/254814 [1:50:38<00:00, 38.38it/s]\n"
          ]
        }
      ],
      "source": [
        "text_cleaning(df, 'item_title')"
      ]
    },
    {
      "cell_type": "code",
      "source": [
        "# Сохранение и загрузка очищенного датасета\n",
        "\n",
        "# df.to_csv('df_cleaned.csv', index=False)\n",
        "\n",
        "df = pd.read_csv('df_cleaned.csv')"
      ],
      "metadata": {
        "id": "YxYRFEUmolPT"
      },
      "execution_count": null,
      "outputs": []
    },
    {
      "cell_type": "markdown",
      "metadata": {
        "id": "zaJFWkjYvDsO"
      },
      "source": [
        "Теперь проверим количество лейблов в получившемся датасете, а самое главное - их распределение. Также построим гистограмму по количеству категорий (эмпирически возьмем до 100 штук)"
      ]
    },
    {
      "cell_type": "code",
      "execution_count": null,
      "metadata": {
        "colab": {
          "base_uri": "https://localhost:8080/"
        },
        "id": "eYfTQBO_4Xb5",
        "outputId": "0d877b59-0b89-47ca-d086-afbfefad06e2"
      },
      "outputs": [
        {
          "name": "stdout",
          "output_type": "stream",
          "text": [
            "Уникальных категорий - 1229\n"
          ]
        },
        {
          "data": {
            "text/plain": [
              "11937    14263\n",
              "13408     7066\n",
              "13061     5572\n",
              "13143     5300\n",
              "13407     3102\n",
              "         ...  \n",
              "13886        2\n",
              "11891        2\n",
              "14072        2\n",
              "13631        2\n",
              "13675        1\n",
              "Name: category_id, Length: 1229, dtype: int64"
            ]
          },
          "execution_count": 17,
          "metadata": {},
          "output_type": "execute_result"
        }
      ],
      "source": [
        "print(f\"Уникальных категорий - {df['category_id'].nunique()}\")\n",
        "df['category_id'].value_counts()"
      ]
    },
    {
      "cell_type": "code",
      "execution_count": null,
      "metadata": {
        "colab": {
          "base_uri": "https://localhost:8080/",
          "height": 282
        },
        "id": "nIORFTjv4Xim",
        "outputId": "a249252f-d921-4675-82ea-243bbfad3852"
      },
      "outputs": [
        {
          "output_type": "execute_result",
          "data": {
            "text/plain": [
              "<matplotlib.axes._subplots.AxesSubplot at 0x7fa7cb404450>"
            ]
          },
          "metadata": {},
          "execution_count": 9
        },
        {
          "output_type": "display_data",
          "data": {
            "text/plain": [
              "<Figure size 432x288 with 1 Axes>"
            ],
            "image/png": "[encoded data removed]"
          },
          "metadata": {
            "needs_background": "light"
          }
        }
      ],
      "source": [
        "df['category_id'].value_counts().plot(kind='hist', range=(1, 100))"
      ]
    },
    {
      "cell_type": "markdown",
      "metadata": {
        "id": "oyfu3ZjzvDsP"
      },
      "source": [
        "Видим неприятную ситуацию: очень большое количество классов содержится в датасете в количестве до 100. \n",
        "К чему это может привести? К тому, что при разделение на тренировочную и валидационную выборку какие-то классы не попадут в одну из выборок. Используем простейший ресемплинг: будет дублировать классы, которые находятся в минимальном количестве, до тех пор пока таких классов не останется."
      ]
    },
    {
      "cell_type": "code",
      "execution_count": null,
      "metadata": {
        "id": "kB4HmOeXf_HJ"
      },
      "outputs": [],
      "source": [
        "# Логика такая: \n",
        "    # отбираем номера классов, которых меньше чем min_count\n",
        "    # из df достаем все строки соответствующие этим классам\n",
        "    # дублируем этот мини-датафрейм\n",
        "    # прибавляем результат к основному\n",
        "    # повторяем пока не закончатся классы с кол-вом меньше min_count\n",
        "\n",
        "\n",
        "def oversampling(df, min_count):\n",
        "    df_vc = df\n",
        "    while df_vc.shape[0] > 0:\n",
        "        df_vc = df['category_id'].value_counts().loc[lambda x: x < min_count].reset_index()['index']\n",
        "        df_minority = df[df['category_id'].isin(df_vc)]\n",
        "        df_minority = df_minority.append(df_minority)\n",
        "        df = df.append(df_minority)\n",
        "    return df"
      ]
    },
    {
      "cell_type": "code",
      "execution_count": null,
      "metadata": {
        "colab": {
          "base_uri": "https://localhost:8080/"
        },
        "id": "T_4ocxsdhHjF",
        "outputId": "f5baa888-e00b-43d1-8419-a88b0d6ab449"
      },
      "outputs": [
        {
          "output_type": "stream",
          "name": "stdout",
          "text": [
            "Размер до ресемплинга: (254814, 2)\n",
            "Размер после ресемплинга: (297698, 2)\n"
          ]
        }
      ],
      "source": [
        "# Несмотря на то, что мы строили гистограмму до 100 штук, для обучения должно хватить даже 50, поэтому оверсемплинг будем делать до этого количества.\n",
        "\n",
        "print(f'Размер до ресемплинга: {df.shape}')\n",
        "df = oversampling(df, 50)\n",
        "print(f'Размер после ресемплинга: {df.shape}')"
      ]
    },
    {
      "cell_type": "code",
      "execution_count": null,
      "metadata": {
        "colab": {
          "base_uri": "https://localhost:8080/",
          "height": 282
        },
        "id": "qgWzMdFE37Pm",
        "outputId": "9678310b-2113-49a4-970d-28bbbb5b740b"
      },
      "outputs": [
        {
          "output_type": "execute_result",
          "data": {
            "text/plain": [
              "<matplotlib.axes._subplots.AxesSubplot at 0x7fa7caeeea10>"
            ]
          },
          "metadata": {},
          "execution_count": 12
        },
        {
          "output_type": "display_data",
          "data": {
            "text/plain": [
              "<Figure size 432x288 with 1 Axes>"
            ],
            "image/png": "[encoded data removed]"
          },
          "metadata": {
            "needs_background": "light"
          }
        }
      ],
      "source": [
        "df['category_id'].value_counts().plot(kind='hist', range=(1, 100))"
      ]
    },
    {
      "cell_type": "markdown",
      "metadata": {
        "id": "L_dTIMm5vDsQ"
      },
      "source": [
        "Сохраним результат всех операций для повторного использования"
      ]
    },
    {
      "cell_type": "markdown",
      "metadata": {
        "id": "Md51_wtoa3aR"
      },
      "source": [
        "# Создание языковой модели"
      ]
    },
    {
      "cell_type": "markdown",
      "source": [
        "Займемся созданием самой модели. А точнее даже дообучением, поскольку в качестве базы будем использовать всеми любимый BERT.\n",
        "Для нашей задачи идеально подойдет [DeepPavlov/rubert-base-cased](https://huggingface.co/DeepPavlov/rubert-base-cased)"
      ],
      "metadata": {
        "id": "0iYs8vt32jAs"
      }
    },
    {
      "cell_type": "code",
      "execution_count": null,
      "metadata": {
        "id": "Oo-_ziIY7xKg"
      },
      "outputs": [],
      "source": [
        "!pip install transformers"
      ]
    },
    {
      "cell_type": "code",
      "execution_count": null,
      "metadata": {
        "id": "rzDldnkY5kRG"
      },
      "outputs": [],
      "source": [
        "import os\n",
        "import time\n",
        "import datetime\n",
        "import random\n",
        "from sklearn.metrics import f1_score\n",
        "\n",
        "from transformers import AutoModelForSequenceClassification\n",
        "from transformers import AutoConfig\n",
        "from transformers import AdamW\n",
        "from transformers import AutoTokenizer\n",
        "from transformers import get_linear_schedule_with_warmup\n",
        "\n",
        "import torch\n",
        "from torch.utils.data import TensorDataset, random_split\n",
        "from torch.utils.data import DataLoader, RandomSampler, SequentialSampler"
      ]
    },
    {
      "cell_type": "code",
      "execution_count": null,
      "metadata": {
        "colab": {
          "base_uri": "https://localhost:8080/"
        },
        "id": "DukEa5zz5q9B",
        "outputId": "9c0ace80-651c-4124-d6b1-4030790be706"
      },
      "outputs": [
        {
          "output_type": "stream",
          "name": "stdout",
          "text": [
            "Доступных видеокарт: 1.\n",
            "Будет использоваться: Tesla K80\n"
          ]
        }
      ],
      "source": [
        "# Проверим доступность GPU\n",
        "\n",
        "torch.cuda.empty_cache()\n",
        "\n",
        "if torch.cuda.is_available():    \n",
        "\n",
        "    device = torch.device(\"cuda\")\n",
        "\n",
        "    print('Доступных видеокарт: %d.' % torch.cuda.device_count())\n",
        "\n",
        "    print('Будет использоваться:', torch.cuda.get_device_name(0))\n",
        "\n",
        "else:\n",
        "    print('Нет доступных GPU, используется CPU.')\n",
        "    device = torch.device(\"cpu\")"
      ]
    },
    {
      "cell_type": "code",
      "execution_count": null,
      "metadata": {
        "id": "6-EAFChu5rd6"
      },
      "outputs": [],
      "source": [
        "texts = df.item_title.values\n",
        "label_cats = df.category_id.astype('category').cat\n",
        "\n",
        "# Список категорий\n",
        "label_names = label_cats.categories\n",
        "\n",
        "# Список id всех категорий (от 0 в порядке возрастания)\n",
        "labels = label_cats.codes"
      ]
    },
    {
      "cell_type": "code",
      "execution_count": null,
      "metadata": {
        "id": "EQxGhec15w5e"
      },
      "outputs": [],
      "source": [
        "model_name = \"DeepPavlov/rubert-base-cased\""
      ]
    },
    {
      "cell_type": "code",
      "execution_count": null,
      "metadata": {
        "colab": {
          "base_uri": "https://localhost:8080/",
          "height": 162,
          "referenced_widgets": [
            "8fff22a47f8d4e36b6f1866d5b847da9",
            "288b5076c88d4063aa187ab09f90f642",
            "2581e89ae1024669b80d5bc8bf813019",
            "972acf7d4bc94cdba1dc40a66aa6179f",
            "2c6159cff019410ba1ebfa5ef9073d63",
            "a9ea40e541cf47cfb3720d40c97f7b41",
            "62f73c02075c4235a82113da17d0208f",
            "c28696a5f8ab444dbdcbe8f292c5c15c",
            "ddd517206bbe43af8b403c4cd1426b91",
            "afa055549fab421f9ee4f21470527ddb",
            "d588ea72f56749f7b2859362c80e41ea",
            "be9f9824c9cf4a39934d24c055092408",
            "a5107f30885b4bd2909414ec36ea1f4c",
            "469a67f6df5d4a79875e2f3c78cd4e93",
            "a4966e699dd2414b8907c34fba906b5b",
            "d5d82e9a893a4817b165f6824bade738",
            "31aafa88be0f444eb814d966a015b351",
            "668abf5be9a04c7fb1a8fa42c937300a",
            "28d795ca1a82485fb4f9f5e6d1f1714e",
            "a35a584f944d4dac968edfe36291517a",
            "56475ebbf33f43599600a8050d764451",
            "98511ae0d4d14ebebc4e5c82cd2f90d4",
            "c4960d404c4c455c8767fea43f41e53d",
            "b010b305e0d4429aabede69c015d1911",
            "1fe0ff9fbe764d2da5d9966e0bbb43a2",
            "8f45cb3e37614efb92faf9586d127721",
            "166015da70e4450fb9c02ee111907015",
            "af28ebc6439a4ead801347412a7ba231",
            "b90ec970706a401eaaea0a6bee0d2937",
            "851aef6353294f80b7b641dbebd1ef85",
            "610603a397754b45a440f456cc985c3b",
            "6a12a2c228164f5d96ff0fe098375c2a",
            "c8b3872339de49a89a092156b1d76364",
            "4b96c918e45b4e918b164f7fe2bb67bf",
            "d304d738fce44f99b3ca4599bd13f5f2",
            "9fff3a3b543c4e9eac10e08d4cf2190b",
            "fb11e987e1c0480f83abdc01203d9d01",
            "c40803e25ae04feda0d31d63cadbfc2c",
            "356b9ff2d48946a4b72577e747396c67",
            "6851d66a20874fb69f714f9579466cdd",
            "6b6291927948445cb5cb381ee93d719f",
            "9a9536dcb4e54350b633149dccd94a0f",
            "67ba2912d24042869a2b588f2d6a89af",
            "ec3a3e792f2e4fb9afc6e7378f278276",
            "af837333ce1247c9a86876a090654e6a",
            "7afc0bb0d1e14973a40a4aeec921ec32",
            "ab1cfb476b8d450fb1090224e6cd6670",
            "0c6863d3b5f446d2b57bbed5bbbdb948"
          ]
        },
        "id": "VPFljDyH51Wa",
        "outputId": "25d5124c-c02c-4a12-f953-65466083d35f"
      },
      "outputs": [
        {
          "name": "stdout",
          "output_type": "stream",
          "text": [
            "Загружается DeepPavlov/rubert-base-cased tokenizer...\n"
          ]
        },
        {
          "data": {
            "application/vnd.jupyter.widget-view+json": {
              "model_id": "af837333ce1247c9a86876a090654e6a",
              "version_major": 2,
              "version_minor": 0
            },
            "text/plain": [
              "Downloading:   0%|          | 0.00/24.0 [00:00<?, ?B/s]"
            ]
          },
          "metadata": {},
          "output_type": "display_data"
        },
        {
          "data": {
            "application/vnd.jupyter.widget-view+json": {
              "model_id": "7afc0bb0d1e14973a40a4aeec921ec32",
              "version_major": 2,
              "version_minor": 0
            },
            "text/plain": [
              "Downloading:   0%|          | 0.00/642 [00:00<?, ?B/s]"
            ]
          },
          "metadata": {},
          "output_type": "display_data"
        },
        {
          "data": {
            "application/vnd.jupyter.widget-view+json": {
              "model_id": "ab1cfb476b8d450fb1090224e6cd6670",
              "version_major": 2,
              "version_minor": 0
            },
            "text/plain": [
              "Downloading:   0%|          | 0.00/1.57M [00:00<?, ?B/s]"
            ]
          },
          "metadata": {},
          "output_type": "display_data"
        },
        {
          "data": {
            "application/vnd.jupyter.widget-view+json": {
              "model_id": "0c6863d3b5f446d2b57bbed5bbbdb948",
              "version_major": 2,
              "version_minor": 0
            },
            "text/plain": [
              "Downloading:   0%|          | 0.00/112 [00:00<?, ?B/s]"
            ]
          },
          "metadata": {},
          "output_type": "display_data"
        }
      ],
      "source": [
        "#Загружаем токенизатор\n",
        "print(f\"Загружается {model_name} tokenizer...\")\n",
        "tokenizer = AutoTokenizer.from_pretrained(model_name, do_lower_case=False)"
      ]
    },
    {
      "cell_type": "code",
      "execution_count": null,
      "metadata": {
        "colab": {
          "base_uri": "https://localhost:8080/"
        },
        "id": "PHRAvUco53fm",
        "outputId": "0b5ab396-b001-4a1f-cecf-f9ce22c1c633"
      },
      "outputs": [
        {
          "name": "stderr",
          "output_type": "stream",
          "text": [
            "100%|██████████| 297698/297698 [01:33<00:00, 3197.83it/s]\n"
          ]
        }
      ],
      "source": [
        "# Токенизируем все названия и привязываем токены к id слов\n",
        "input_ids = []\n",
        "attention_masks = []\n",
        "\n",
        "for text in tqdm(texts, total=len(texts)):\n",
        "    encoded_dict = tokenizer.encode_plus(\n",
        "                        text,            \n",
        "                        add_special_tokens = True,\n",
        "                        max_length = 120,\n",
        "                        padding='max_length',\n",
        "                        return_attention_mask = True,\n",
        "                        return_tensors = 'pt')\n",
        "  \n",
        "    input_ids.append(encoded_dict['input_ids'])\n",
        "    attention_masks.append(encoded_dict['attention_mask'])"
      ]
    },
    {
      "cell_type": "code",
      "execution_count": null,
      "metadata": {
        "id": "QInouCto54IA"
      },
      "outputs": [],
      "source": [
        "# Переводим нужные списки в тензоры \n",
        "input_ids = torch.cat(input_ids, dim=0)\n",
        "attention_masks = torch.cat(attention_masks, dim=0)\n",
        "labels = torch.tensor(labels, dtype=torch.long)"
      ]
    },
    {
      "cell_type": "code",
      "execution_count": null,
      "metadata": {
        "colab": {
          "base_uri": "https://localhost:8080/"
        },
        "id": "PsnjUsyo55u9",
        "outputId": "6a930ffc-ba75-495d-9a70-32877452ffde"
      },
      "outputs": [
        {
          "name": "stdout",
          "output_type": "stream",
          "text": [
            "238158 семплов в трейне\n",
            "29769 семплов в валидации\n",
            "29771 семплов в тесте\n"
          ]
        }
      ],
      "source": [
        "# Создаем датасет из полученных наборов тензоров\n",
        "dataset = TensorDataset(input_ids, attention_masks, labels)\n",
        "\n",
        "\n",
        "# Делим датасет на 3 части в соотношении 80-10-10 для обучения и проверки\n",
        "train_size = int(0.8 * len(dataset))\n",
        "val_size = int(0.1 * len(dataset)) \n",
        "test_size = len(dataset) - train_size - val_size\n",
        "\n",
        "train_dataset, val_dataset, test_dataset = random_split(dataset, [train_size, val_size, test_size])\n",
        "\n",
        "print(f\"{train_size} семплов в трейне\")\n",
        "print(f\"{val_size} семплов в валидации\")\n",
        "print(f\"{test_size} семплов в тесте\")"
      ]
    },
    {
      "cell_type": "markdown",
      "source": [
        "Теперь создадим DataLoader'ы для подачи данных батчами. Размер батча (32) выбран на основе некоторого количество проведенных циклов обучения. Вполне возможно, что уменьшение количества до 16 улучшило бы качество предсказаний, однако упираемся в ограничение арендованного GPU по времени работы :("
      ],
      "metadata": {
        "id": "vEuVZZS_3xg-"
      }
    },
    {
      "cell_type": "code",
      "execution_count": null,
      "metadata": {
        "id": "frIfO4lZ571V"
      },
      "outputs": [],
      "source": [
        "batch_size = 32\n",
        "\n",
        "\n",
        "# Создадим класс DataLoader для передачи батчей\n",
        "train_dataloader = DataLoader(\n",
        "            train_dataset,\n",
        "            sampler = RandomSampler(train_dataset),\n",
        "            batch_size = batch_size\n",
        "        )\n",
        "\n",
        "validation_dataloader = DataLoader(\n",
        "            val_dataset,\n",
        "            sampler = SequentialSampler(val_dataset),\n",
        "            batch_size = batch_size\n",
        "        )\n",
        "\n",
        "test_dataloader = DataLoader(\n",
        "            test_dataset,\n",
        "            sampler = SequentialSampler(test_dataset),\n",
        "            batch_size = batch_size\n",
        "        )"
      ]
    },
    {
      "cell_type": "code",
      "execution_count": null,
      "metadata": {
        "id": "g-DWLH7g5_Xh",
        "jupyter": {
          "outputs_hidden": true
        },
        "tags": []
      },
      "outputs": [],
      "source": [
        "# Загружаем модель для классификации\n",
        "print(f\"Загружается {model_name}...\")\n",
        "config = AutoConfig.from_pretrained(model_name)\n",
        "config.num_labels = len(label_names)\n",
        "config.output_attentions = True\n",
        "model = AutoModelForSequenceClassification.from_pretrained(\n",
        "    model_name,\n",
        "    config=config)\n",
        "\n",
        "\n",
        "model.cuda()"
      ]
    },
    {
      "cell_type": "code",
      "execution_count": null,
      "metadata": {
        "colab": {
          "base_uri": "https://localhost:8080/"
        },
        "id": "6wUAxhfX6DBj",
        "outputId": "364850b3-d1ab-4166-abc3-6907d15eba42"
      },
      "outputs": [
        {
          "name": "stderr",
          "output_type": "stream",
          "text": [
            "/usr/local/lib/python3.6/dist-packages/transformers/optimization.py:309: FutureWarning: This implementation of AdamW is deprecated and will be removed in a future version. Use the PyTorch implementation torch.optim.AdamW instead, or set `no_deprecation_warning=True` to disable this warning\n",
            "  FutureWarning,\n"
          ]
        }
      ],
      "source": [
        "# Выбираем оптимизатор и его параметры\n",
        "optimizer = AdamW(model.parameters(),\n",
        "                  lr = 2e-5,\n",
        "                  eps = 1e-8\n",
        "                )"
      ]
    },
    {
      "cell_type": "code",
      "execution_count": null,
      "metadata": {
        "id": "VZAvCqHk6Fsu"
      },
      "outputs": [],
      "source": [
        "# Установим количество эпох. Возьмем 4, поскольку опытным путем выявлено,\n",
        "# что после 4й эпохи лосс на валидации начинает снова расти\n",
        "\n",
        "epochs = 4\n",
        "\n",
        "total_steps = len(train_dataloader) * epochs\n",
        "\n",
        "# Создадим learning rate scheduler для подгонки lr в процессе обучения\n",
        "scheduler = get_linear_schedule_with_warmup(optimizer, \n",
        "                                            num_warmup_steps = 0,\n",
        "                                            num_training_steps = total_steps)"
      ]
    },
    {
      "cell_type": "code",
      "execution_count": null,
      "metadata": {
        "id": "oA7hjbss6GN8"
      },
      "outputs": [],
      "source": [
        "# Небольшая функция для расчета метрики в процессе валидации\n",
        "def flat_f1(preds, labels):\n",
        "    pred_flat = np.argmax(preds, axis=1).flatten()\n",
        "    labels_flat = labels.flatten()\n",
        "    return f1_score(labels_flat, pred_flat, average='micro')"
      ]
    },
    {
      "cell_type": "code",
      "execution_count": null,
      "metadata": {
        "id": "iqc-bqnE6JEI"
      },
      "outputs": [],
      "source": [
        "# Функция, которая нам будет полезна при расчете затраченного времени\n",
        "def format_time(elapsed):\n",
        "    '''\n",
        "    Переводит время в секундах в формат hh:mm:ss\n",
        "    '''\n",
        "    # Round to the nearest second.\n",
        "    elapsed_rounded = int(round((elapsed)))\n",
        "    \n",
        "    # Format as hh:mm:ss\n",
        "    return str(datetime.timedelta(seconds=elapsed_rounded))"
      ]
    },
    {
      "cell_type": "code",
      "execution_count": null,
      "metadata": {
        "colab": {
          "base_uri": "https://localhost:8080/",
          "height": 1000
        },
        "id": "hknINtGx6JcF",
        "outputId": "784ec6ec-80a7-48fa-84a0-4a7adddb1001"
      },
      "outputs": [
        {
          "name": "stdout",
          "output_type": "stream",
          "text": [
            "\n",
            "======== Эпоха 1 / 4 ========\n",
            "Обучение...\n",
            "  Батч   200  из  7,443.    Прошло: 0:01:37.\n",
            "  Батч   400  из  7,443.    Прошло: 0:03:13.\n",
            "  Батч   600  из  7,443.    Прошло: 0:04:50.\n",
            "  Батч   800  из  7,443.    Прошло: 0:06:27.\n",
            "  Батч 1,000  из  7,443.    Прошло: 0:08:04.\n",
            "  Батч 1,200  из  7,443.    Прошло: 0:09:40.\n",
            "  Батч 1,400  из  7,443.    Прошло: 0:11:17.\n",
            "  Батч 1,600  из  7,443.    Прошло: 0:12:54.\n",
            "  Батч 1,800  из  7,443.    Прошло: 0:14:30.\n",
            "  Батч 2,000  из  7,443.    Прошло: 0:16:07.\n",
            "  Батч 2,200  из  7,443.    Прошло: 0:17:44.\n",
            "  Батч 2,400  из  7,443.    Прошло: 0:19:21.\n",
            "  Батч 2,600  из  7,443.    Прошло: 0:20:57.\n",
            "  Батч 2,800  из  7,443.    Прошло: 0:22:34.\n",
            "  Батч 3,000  из  7,443.    Прошло: 0:24:11.\n",
            "  Батч 3,200  из  7,443.    Прошло: 0:25:47.\n",
            "  Батч 3,400  из  7,443.    Прошло: 0:27:24.\n",
            "  Батч 3,600  из  7,443.    Прошло: 0:29:01.\n",
            "  Батч 3,800  из  7,443.    Прошло: 0:30:38.\n",
            "  Батч 4,000  из  7,443.    Прошло: 0:32:14.\n",
            "  Батч 4,200  из  7,443.    Прошло: 0:33:51.\n",
            "  Батч 4,400  из  7,443.    Прошло: 0:35:28.\n",
            "  Батч 4,600  из  7,443.    Прошло: 0:37:05.\n",
            "  Батч 4,800  из  7,443.    Прошло: 0:38:41.\n",
            "  Батч 5,000  из  7,443.    Прошло: 0:40:18.\n",
            "  Батч 5,200  из  7,443.    Прошло: 0:41:55.\n",
            "  Батч 5,400  из  7,443.    Прошло: 0:43:31.\n",
            "  Батч 5,600  из  7,443.    Прошло: 0:45:08.\n",
            "  Батч 5,800  из  7,443.    Прошло: 0:46:45.\n",
            "  Батч 6,000  из  7,443.    Прошло: 0:48:21.\n",
            "  Батч 6,200  из  7,443.    Прошло: 0:49:58.\n",
            "  Батч 6,400  из  7,443.    Прошло: 0:51:35.\n",
            "  Батч 6,600  из  7,443.    Прошло: 0:53:11.\n",
            "  Батч 6,800  из  7,443.    Прошло: 0:54:48.\n",
            "  Батч 7,000  из  7,443.    Прошло: 0:56:25.\n",
            "  Батч 7,200  из  7,443.    Прошло: 0:58:01.\n",
            "  Батч 7,400  из  7,443.    Прошло: 0:59:38.\n",
            "\n",
            "  Средний лосс на обучении: 2.90\n",
            "  На эпоху потрачено: 0:59:59\n",
            "\n",
            "Валидация...\n",
            "  F1-мера: 0.71\n",
            "  Средний лосс на валидации: 1.53\n",
            "  На валидацию потрачено: 0:02:21\n",
            "\n",
            "======== Эпоха 2 / 4 ========\n",
            "Обучение...\n",
            "  Батч   200  из  7,443.    Прошло: 0:01:37.\n",
            "  Батч   400  из  7,443.    Прошло: 0:03:13.\n",
            "  Батч   600  из  7,443.    Прошло: 0:04:50.\n",
            "  Батч   800  из  7,443.    Прошло: 0:06:27.\n",
            "  Батч 1,000  из  7,443.    Прошло: 0:08:03.\n",
            "  Батч 1,200  из  7,443.    Прошло: 0:09:40.\n",
            "  Батч 1,400  из  7,443.    Прошло: 0:11:17.\n",
            "  Батч 1,600  из  7,443.    Прошло: 0:12:53.\n",
            "  Батч 1,800  из  7,443.    Прошло: 0:14:30.\n",
            "  Батч 2,000  из  7,443.    Прошло: 0:16:07.\n",
            "  Батч 2,200  из  7,443.    Прошло: 0:17:43.\n",
            "  Батч 2,400  из  7,443.    Прошло: 0:19:20.\n",
            "  Батч 2,600  из  7,443.    Прошло: 0:20:57.\n",
            "  Батч 2,800  из  7,443.    Прошло: 0:22:33.\n",
            "  Батч 3,000  из  7,443.    Прошло: 0:24:10.\n",
            "  Батч 3,200  из  7,443.    Прошло: 0:25:47.\n",
            "  Батч 3,400  из  7,443.    Прошло: 0:27:23.\n",
            "  Батч 3,600  из  7,443.    Прошло: 0:29:00.\n",
            "  Батч 3,800  из  7,443.    Прошло: 0:30:37.\n",
            "  Батч 4,000  из  7,443.    Прошло: 0:32:13.\n",
            "  Батч 4,200  из  7,443.    Прошло: 0:33:50.\n",
            "  Батч 4,400  из  7,443.    Прошло: 0:35:27.\n",
            "  Батч 4,600  из  7,443.    Прошло: 0:37:03.\n",
            "  Батч 4,800  из  7,443.    Прошло: 0:38:40.\n",
            "  Батч 5,000  из  7,443.    Прошло: 0:40:16.\n",
            "  Батч 5,200  из  7,443.    Прошло: 0:41:53.\n",
            "  Батч 5,400  из  7,443.    Прошло: 0:43:30.\n",
            "  Батч 5,600  из  7,443.    Прошло: 0:45:06.\n",
            "  Батч 5,800  из  7,443.    Прошло: 0:46:43.\n",
            "  Батч 6,000  из  7,443.    Прошло: 0:48:20.\n",
            "  Батч 6,200  из  7,443.    Прошло: 0:49:56.\n",
            "  Батч 6,400  из  7,443.    Прошло: 0:51:33.\n",
            "  Батч 6,600  из  7,443.    Прошло: 0:53:10.\n",
            "  Батч 6,800  из  7,443.    Прошло: 0:54:46.\n",
            "  Батч 7,000  из  7,443.    Прошло: 0:56:23.\n",
            "  Батч 7,200  из  7,443.    Прошло: 0:58:00.\n",
            "  Батч 7,400  из  7,443.    Прошло: 0:59:36.\n",
            "\n",
            "  Средний лосс на обучении: 1.16\n",
            "  На эпоху потрачено: 0:59:57\n",
            "\n",
            "Валидация...\n",
            "  F1-мера: 0.81\n",
            "  Средний лосс на валидации: 0.90\n",
            "  На валидацию потрачено: 0:02:21\n",
            "\n",
            "======== Эпоха 3 / 4 ========\n",
            "Обучение...\n",
            "  Батч   200  из  7,443.    Прошло: 0:01:37.\n",
            "  Батч   400  из  7,443.    Прошло: 0:03:13.\n",
            "  Батч   600  из  7,443.    Прошло: 0:04:50.\n",
            "  Батч   800  из  7,443.    Прошло: 0:06:27.\n",
            "  Батч 1,000  из  7,443.    Прошло: 0:08:04.\n",
            "  Батч 1,200  из  7,443.    Прошло: 0:09:40.\n",
            "  Батч 1,400  из  7,443.    Прошло: 0:11:17.\n",
            "  Батч 1,600  из  7,443.    Прошло: 0:12:54.\n",
            "  Батч 1,800  из  7,443.    Прошло: 0:14:30.\n",
            "  Батч 2,000  из  7,443.    Прошло: 0:16:07.\n",
            "  Батч 2,200  из  7,443.    Прошло: 0:17:44.\n",
            "  Батч 2,400  из  7,443.    Прошло: 0:19:20.\n",
            "  Батч 2,600  из  7,443.    Прошло: 0:20:57.\n",
            "  Батч 2,800  из  7,443.    Прошло: 0:22:34.\n",
            "  Батч 3,000  из  7,443.    Прошло: 0:24:11.\n",
            "  Батч 3,200  из  7,443.    Прошло: 0:25:47.\n",
            "  Батч 3,400  из  7,443.    Прошло: 0:27:24.\n",
            "  Батч 3,600  из  7,443.    Прошло: 0:29:01.\n",
            "  Батч 3,800  из  7,443.    Прошло: 0:30:37.\n",
            "  Батч 4,000  из  7,443.    Прошло: 0:32:14.\n",
            "  Батч 4,200  из  7,443.    Прошло: 0:33:51.\n",
            "  Батч 4,400  из  7,443.    Прошло: 0:35:27.\n",
            "  Батч 4,600  из  7,443.    Прошло: 0:37:04.\n",
            "  Батч 4,800  из  7,443.    Прошло: 0:38:41.\n",
            "  Батч 5,000  из  7,443.    Прошло: 0:40:17.\n",
            "  Батч 5,200  из  7,443.    Прошло: 0:41:54.\n",
            "  Батч 5,400  из  7,443.    Прошло: 0:43:31.\n",
            "  Батч 5,600  из  7,443.    Прошло: 0:45:08.\n",
            "  Батч 5,800  из  7,443.    Прошло: 0:46:44.\n",
            "  Батч 6,000  из  7,443.    Прошло: 0:48:21.\n",
            "  Батч 6,200  из  7,443.    Прошло: 0:49:58.\n",
            "  Батч 6,400  из  7,443.    Прошло: 0:51:34.\n",
            "  Батч 6,600  из  7,443.    Прошло: 0:53:11.\n",
            "  Батч 6,800  из  7,443.    Прошло: 0:54:48.\n",
            "  Батч 7,000  из  7,443.    Прошло: 0:56:24.\n",
            "  Батч 7,200  из  7,443.    Прошло: 0:58:01.\n",
            "  Батч 7,400  из  7,443.    Прошло: 0:59:38.\n",
            "\n",
            "  Средний лосс на обучении: 0.74\n",
            "  На эпоху потрачено: 0:59:58\n",
            "\n",
            "Валидация...\n",
            "  F1-мера: 0.84\n",
            "  Средний лосс на валидации: 0.71\n",
            "  На валидацию потрачено: 0:02:21\n",
            "\n",
            "======== Эпоха 4 / 4 ========\n",
            "Обучение...\n",
            "  Батч   200  из  7,443.    Прошло: 0:01:37.\n",
            "  Батч   400  из  7,443.    Прошло: 0:03:13.\n",
            "  Батч   600  из  7,443.    Прошло: 0:04:50.\n",
            "  Батч   800  из  7,443.    Прошло: 0:06:27.\n",
            "  Батч 1,000  из  7,443.    Прошло: 0:08:04.\n",
            "  Батч 1,200  из  7,443.    Прошло: 0:09:40.\n",
            "  Батч 1,400  из  7,443.    Прошло: 0:11:17.\n",
            "  Батч 1,600  из  7,443.    Прошло: 0:12:54.\n",
            "  Батч 1,800  из  7,443.    Прошло: 0:14:30.\n",
            "  Батч 2,000  из  7,443.    Прошло: 0:16:07.\n",
            "  Батч 2,200  из  7,443.    Прошло: 0:17:44.\n",
            "  Батч 2,400  из  7,443.    Прошло: 0:19:20.\n",
            "  Батч 2,600  из  7,443.    Прошло: 0:20:57.\n",
            "  Батч 2,800  из  7,443.    Прошло: 0:22:34.\n",
            "  Батч 3,000  из  7,443.    Прошло: 0:24:11.\n",
            "  Батч 3,200  из  7,443.    Прошло: 0:25:47.\n",
            "  Батч 3,400  из  7,443.    Прошло: 0:27:24.\n",
            "  Батч 3,600  из  7,443.    Прошло: 0:29:01.\n",
            "  Батч 3,800  из  7,443.    Прошло: 0:30:37.\n",
            "  Батч 4,000  из  7,443.    Прошло: 0:32:14.\n",
            "  Батч 4,200  из  7,443.    Прошло: 0:33:51.\n",
            "  Батч 4,400  из  7,443.    Прошло: 0:35:27.\n",
            "  Батч 4,600  из  7,443.    Прошло: 0:37:04.\n",
            "  Батч 4,800  из  7,443.    Прошло: 0:38:41.\n",
            "  Батч 5,000  из  7,443.    Прошло: 0:40:17.\n",
            "  Батч 5,200  из  7,443.    Прошло: 0:41:54.\n",
            "  Батч 5,400  из  7,443.    Прошло: 0:43:31.\n",
            "  Батч 5,600  из  7,443.    Прошло: 0:45:08.\n",
            "  Батч 5,800  из  7,443.    Прошло: 0:46:44.\n",
            "  Батч 6,000  из  7,443.    Прошло: 0:48:21.\n",
            "  Батч 6,200  из  7,443.    Прошло: 0:49:58.\n",
            "  Батч 6,400  из  7,443.    Прошло: 0:51:34.\n",
            "  Батч 6,600  из  7,443.    Прошло: 0:53:11.\n",
            "  Батч 6,800  из  7,443.    Прошло: 0:54:48.\n",
            "  Батч 7,000  из  7,443.    Прошло: 0:56:24.\n",
            "  Батч 7,200  из  7,443.    Прошло: 0:58:01.\n",
            "  Батч 7,400  из  7,443.    Прошло: 0:59:38.\n",
            "\n",
            "  Средний лосс на обучении: 0.58\n",
            "  На эпоху потрачено: 0:59:58\n",
            "\n",
            "Валидация...\n",
            "  F1-мера: 0.85\n",
            "  Средний лосс на валидации: 0.66\n",
            "  На валидацию потрачено: 0:02:21\n",
            "\n",
            "Обучение завершено!\n",
            "Общее время обучения модели 4:09:17 (h:mm:ss)\n"
          ]
        }
      ],
      "source": [
        "# Процесс тренировки\n",
        "\n",
        "seed_val = 42\n",
        "\n",
        "random.seed(seed_val)\n",
        "np.random.seed(seed_val)\n",
        "torch.manual_seed(seed_val)\n",
        "torch.cuda.manual_seed_all(seed_val)\n",
        "\n",
        "# Здесь будем хранить значения, полученные в процессе обучения (лоссы, метрику)\n",
        "training_stats = []\n",
        "\n",
        "total_t0 = time.time()\n",
        "\n",
        "\n",
        "for epoch_i in range(0, epochs):\n",
        "\n",
        "    # ========================================\n",
        "    #               Обучение\n",
        "    # ========================================\n",
        "\n",
        "    print(\"\")\n",
        "    print('======== Эпоха {:} / {:} ========'.format(epoch_i + 1, epochs))\n",
        "    print('Обучение...')\n",
        "\n",
        "    t0 = time.time()\n",
        "\n",
        "    total_train_loss = 0\n",
        "\n",
        "    model.train()\n",
        "\n",
        "    for step, batch in enumerate(train_dataloader):\n",
        "\n",
        "        # Отмечает прогресс каждые 200 батчей.\n",
        "        if step % 200 == 0 and not step == 0:\n",
        "\n",
        "            elapsed = format_time(time.time() - t0)\n",
        "            print('  Батч {:>5,}  из  {:>5,}.    Прошло: {:}.'.format(step, len(train_dataloader), elapsed))\n",
        "\n",
        "\n",
        "        b_input_ids = batch[0].to(device)\n",
        "        b_input_mask = batch[1].to(device)\n",
        "        b_labels = batch[2].to(device)\n",
        "\n",
        "        model.zero_grad()        \n",
        "\n",
        "        loss, logits, attentions = model(input_ids=b_input_ids, \n",
        "                                         attention_mask=b_input_mask, \n",
        "                                         labels=b_labels, return_dict=False)\n",
        "\n",
        "        total_train_loss += loss.item()\n",
        "\n",
        "        loss.backward()\n",
        "\n",
        "        # Ограничение значений. Поможет избавиться от взрывающегося градиента\n",
        "        torch.nn.utils.clip_grad_norm_(model.parameters(), 1.0)\n",
        "\n",
        "        optimizer.step()\n",
        "\n",
        "        scheduler.step()\n",
        "\n",
        "    avg_train_loss = total_train_loss / len(train_dataloader)            \n",
        "    \n",
        "    training_time = format_time(time.time() - t0)\n",
        "\n",
        "    print(\"\")\n",
        "    print(\"  Средний лосс на обучении: {0:.2f}\".format(avg_train_loss))\n",
        "    print(\"  На эпоху потрачено: {:}\".format(training_time))\n",
        "        \n",
        "    # ========================================\n",
        "    #               Валидация\n",
        "    # ========================================\n",
        "\n",
        "    print(\"\")\n",
        "    print(\"Валидация...\")\n",
        "\n",
        "    t0 = time.time()\n",
        "\n",
        "    model.eval()\n",
        "\n",
        "    total_eval_f1 = 0\n",
        "    total_eval_loss = 0\n",
        "    nb_eval_steps = 0\n",
        "\n",
        "    for batch in validation_dataloader:\n",
        "        \n",
        "        b_input_ids = batch[0].to(device)\n",
        "        b_input_mask = batch[1].to(device)\n",
        "        b_labels = batch[2].to(device)\n",
        "        \n",
        "        with torch.no_grad():        \n",
        "\n",
        "            (loss, logits, attentions) = model(input_ids=b_input_ids, \n",
        "                                               attention_mask=b_input_mask,\n",
        "                                               labels=b_labels, return_dict=False)            \n",
        "\n",
        "        total_eval_loss += loss.item()\n",
        "\n",
        "        logits = logits.detach().cpu().numpy()\n",
        "        label_ids = b_labels.to('cpu').numpy()\n",
        "\n",
        "        total_eval_f1 += flat_f1(logits, label_ids)\n",
        "        \n",
        "\n",
        "    # Средняя F-мера на валидации\n",
        "    avg_val_f1 = total_eval_f1 / len(validation_dataloader)\n",
        "    print(\"  F1-мера: {0:.2f}\".format(avg_val_f1))\n",
        "\n",
        "    # Средний лосс по батчам\n",
        "    avg_val_loss = total_eval_loss / len(validation_dataloader)\n",
        "    \n",
        "    # Время затраченное на валидацию\n",
        "    validation_time = format_time(time.time() - t0)\n",
        "    \n",
        "    print(\"  Средний лосс на валидации: {0:.2f}\".format(avg_val_loss))\n",
        "    print(\"  На валидацию потрачено: {:}\".format(validation_time))\n",
        "\n",
        "    training_stats.append(\n",
        "        {\n",
        "            'epoch': epoch_i + 1,\n",
        "            'Training Loss': avg_train_loss,\n",
        "            'Valid. Loss': avg_val_loss,\n",
        "            'Valid. F1.': avg_val_f1,\n",
        "            'Training Time': training_time,\n",
        "            'Validation Time': validation_time\n",
        "        }\n",
        "    )\n",
        "\n",
        "print(\"\")\n",
        "print(\"Обучение завершено!\")\n",
        "\n",
        "print(\"Общее время обучения модели {:} (h:mm:ss)\".format(format_time(time.time()-total_t0)))"
      ]
    },
    {
      "cell_type": "markdown",
      "metadata": {
        "id": "sjvkNuQOZmii"
      },
      "source": [
        "# Проверка процесса обучения"
      ]
    },
    {
      "cell_type": "code",
      "execution_count": null,
      "metadata": {
        "id": "KDLR-_TEWAfn",
        "outputId": "3fcc0e5b-d0db-46da-f022-8a09ece9234d"
      },
      "outputs": [
        {
          "data": {
            "text/html": [
              "<div>\n",
              "<style scoped>\n",
              "    .dataframe tbody tr th:only-of-type {\n",
              "        vertical-align: middle;\n",
              "    }\n",
              "\n",
              "    .dataframe tbody tr th {\n",
              "        vertical-align: top;\n",
              "    }\n",
              "\n",
              "    .dataframe thead th {\n",
              "        text-align: right;\n",
              "    }\n",
              "</style>\n",
              "<table border=\"1\" class=\"dataframe\">\n",
              "  <thead>\n",
              "    <tr style=\"text-align: right;\">\n",
              "      <th></th>\n",
              "      <th>Training Loss</th>\n",
              "      <th>Valid. Loss</th>\n",
              "      <th>Valid. F1.</th>\n",
              "      <th>Training Time</th>\n",
              "      <th>Validation Time</th>\n",
              "    </tr>\n",
              "    <tr>\n",
              "      <th>epoch</th>\n",
              "      <th></th>\n",
              "      <th></th>\n",
              "      <th></th>\n",
              "      <th></th>\n",
              "      <th></th>\n",
              "    </tr>\n",
              "  </thead>\n",
              "  <tbody>\n",
              "    <tr>\n",
              "      <th>1</th>\n",
              "      <td>2.90</td>\n",
              "      <td>1.53</td>\n",
              "      <td>0.71</td>\n",
              "      <td>0:59:59</td>\n",
              "      <td>0:02:21</td>\n",
              "    </tr>\n",
              "    <tr>\n",
              "      <th>2</th>\n",
              "      <td>1.16</td>\n",
              "      <td>0.90</td>\n",
              "      <td>0.81</td>\n",
              "      <td>0:59:57</td>\n",
              "      <td>0:02:21</td>\n",
              "    </tr>\n",
              "    <tr>\n",
              "      <th>3</th>\n",
              "      <td>0.74</td>\n",
              "      <td>0.71</td>\n",
              "      <td>0.84</td>\n",
              "      <td>0:59:58</td>\n",
              "      <td>0:02:21</td>\n",
              "    </tr>\n",
              "    <tr>\n",
              "      <th>4</th>\n",
              "      <td>0.58</td>\n",
              "      <td>0.66</td>\n",
              "      <td>0.85</td>\n",
              "      <td>0:59:58</td>\n",
              "      <td>0:02:21</td>\n",
              "    </tr>\n",
              "  </tbody>\n",
              "</table>\n",
              "</div>"
            ],
            "text/plain": [
              "       Training Loss  Valid. Loss  Valid. F1. Training Time Validation Time\n",
              "epoch                                                                      \n",
              "1               2.90         1.53        0.71       0:59:59         0:02:21\n",
              "2               1.16         0.90        0.81       0:59:57         0:02:21\n",
              "3               0.74         0.71        0.84       0:59:58         0:02:21\n",
              "4               0.58         0.66        0.85       0:59:58         0:02:21"
            ]
          },
          "execution_count": 40,
          "metadata": {},
          "output_type": "execute_result"
        }
      ],
      "source": [
        "# Создадим сравнительную таблицу по эпохам\n",
        "\n",
        "pd.set_option('precision', 2)\n",
        "df_stats = pd.DataFrame(data=training_stats)\n",
        "df_stats = df_stats.set_index('epoch')\n",
        "\n",
        "df_stats"
      ]
    },
    {
      "cell_type": "markdown",
      "metadata": {
        "id": "6B8H5kaAZt4Y"
      },
      "source": [
        "Окончательная проверка на тест-сете"
      ]
    },
    {
      "cell_type": "code",
      "execution_count": null,
      "metadata": {
        "id": "qaizyUpfWQeZ",
        "outputId": "a63ad00b-6f1b-45c2-9ab3-57d7d614204b"
      },
      "outputs": [
        {
          "name": "stdout",
          "output_type": "stream",
          "text": [
            "Предсказываем категории ...\n",
            "Предсказано 29771 сэмплов\n"
          ]
        }
      ],
      "source": [
        "print(\"Предсказываем категории ...\")\n",
        "\n",
        "model.eval()\n",
        "\n",
        "predictions, true_labels = [], []\n",
        "\n",
        "for batch in test_dataloader:\n",
        "\n",
        "    batch = tuple(t.to(device) for t in batch)\n",
        "\n",
        "    b_input_ids, b_input_mask, b_labels = batch\n",
        "\n",
        "    with torch.no_grad():\n",
        "          outputs = model(input_ids=b_input_ids,\n",
        "                          attention_mask=b_input_mask)\n",
        "\n",
        "    logits = outputs[0]\n",
        "\n",
        "    logits = logits.detach().cpu().numpy()\n",
        "    label_ids = b_labels.to('cpu').numpy()\n",
        "\n",
        "    predictions.extend(logits)\n",
        "    true_labels.extend(label_ids)\n",
        "\n",
        "print(f\"Предсказано {len(predictions)} сэмплов\")"
      ]
    },
    {
      "cell_type": "code",
      "execution_count": null,
      "metadata": {
        "id": "FYWbP_BKWWS6",
        "tags": [],
        "outputId": "84e1f200-395f-4a6c-9bd7-a84a8ab54228"
      },
      "outputs": [
        {
          "name": "stdout",
          "output_type": "stream",
          "text": [
            "F-мера на тест-сете: 0.8468979879748748\n"
          ]
        }
      ],
      "source": [
        "predictions = np.argmax(predictions, axis=1)\n",
        "true_labels = np.array(true_labels)\n",
        "print(f\"F-мера на тест-сете: {f1_score(true_labels, predictions, average='micro')}\")"
      ]
    },
    {
      "cell_type": "code",
      "execution_count": null,
      "metadata": {
        "id": "b5uMMG-4vDsZ",
        "outputId": "2925f5ab-f376-4f15-d3b6-ab5153f19ea8"
      },
      "outputs": [
        {
          "name": "stderr",
          "output_type": "stream",
          "text": [
            "100%|██████████| 29771/29771 [00:00<00:00, 552173.98it/s]\n",
            "100%|██████████| 29771/29771 [00:00<00:00, 533403.21it/s]\n"
          ]
        }
      ],
      "source": [
        "pred = []\n",
        "true_lbl = []\n",
        "for i in tqdm(predictions):\n",
        "    pred.append(label_names[i])\n",
        "for i in tqdm(true_labels):\n",
        "    true_lbl.append(label_names[i])"
      ]
    },
    {
      "cell_type": "markdown",
      "source": [
        "Создадим небольшой датафрейм и визуально оценим качество предсказаний"
      ],
      "metadata": {
        "id": "osPnIuUwqWUV"
      }
    },
    {
      "cell_type": "code",
      "execution_count": null,
      "metadata": {
        "id": "Nz3JyKTIvDsa"
      },
      "outputs": [],
      "source": [
        "df3 = pd.DataFrame(data={'true_label': true_lbl, 'pred': pred})\n",
        "df3 = df3.merge(cat_df, how='left', left_on='true_label', right_on='id')\n",
        "df3 = df3.merge(cat_df, how='left', left_on='pred', right_on='id')"
      ]
    },
    {
      "cell_type": "code",
      "execution_count": null,
      "metadata": {
        "id": "mMVXw7YzvDsa",
        "outputId": "3b8c4dfd-06b3-4477-a39b-0b7dbe6982ec"
      },
      "outputs": [
        {
          "data": {
            "text/html": [
              "<div>\n",
              "<style scoped>\n",
              "    .dataframe tbody tr th:only-of-type {\n",
              "        vertical-align: middle;\n",
              "    }\n",
              "\n",
              "    .dataframe tbody tr th {\n",
              "        vertical-align: top;\n",
              "    }\n",
              "\n",
              "    .dataframe thead th {\n",
              "        text-align: right;\n",
              "    }\n",
              "</style>\n",
              "<table border=\"1\" class=\"dataframe\">\n",
              "  <thead>\n",
              "    <tr style=\"text-align: right;\">\n",
              "      <th></th>\n",
              "      <th>true_label</th>\n",
              "      <th>pred</th>\n",
              "      <th>id_x</th>\n",
              "      <th>title_x</th>\n",
              "      <th>parent_id_x</th>\n",
              "      <th>id_y</th>\n",
              "      <th>title_y</th>\n",
              "      <th>parent_id_y</th>\n",
              "    </tr>\n",
              "  </thead>\n",
              "  <tbody>\n",
              "    <tr>\n",
              "      <th>19450</th>\n",
              "      <td>11937</td>\n",
              "      <td>11937</td>\n",
              "      <td>11937</td>\n",
              "      <td>Чехлы</td>\n",
              "      <td>10398</td>\n",
              "      <td>11937</td>\n",
              "      <td>Чехлы</td>\n",
              "      <td>10398</td>\n",
              "    </tr>\n",
              "    <tr>\n",
              "      <th>25450</th>\n",
              "      <td>12454</td>\n",
              "      <td>12454</td>\n",
              "      <td>12454</td>\n",
              "      <td>Дизайн ногтей</td>\n",
              "      <td>10113</td>\n",
              "      <td>12454</td>\n",
              "      <td>Дизайн ногтей</td>\n",
              "      <td>10113</td>\n",
              "    </tr>\n",
              "    <tr>\n",
              "      <th>27715</th>\n",
              "      <td>2663</td>\n",
              "      <td>2663</td>\n",
              "      <td>2663</td>\n",
              "      <td>Скрабы и пилинг</td>\n",
              "      <td>10137</td>\n",
              "      <td>2663</td>\n",
              "      <td>Скрабы и пилинг</td>\n",
              "      <td>10137</td>\n",
              "    </tr>\n",
              "    <tr>\n",
              "      <th>10843</th>\n",
              "      <td>12084</td>\n",
              "      <td>12084</td>\n",
              "      <td>12084</td>\n",
              "      <td>Религиозная одежда</td>\n",
              "      <td>10014</td>\n",
              "      <td>12084</td>\n",
              "      <td>Религиозная одежда</td>\n",
              "      <td>10014</td>\n",
              "    </tr>\n",
              "    <tr>\n",
              "      <th>7202</th>\n",
              "      <td>2599</td>\n",
              "      <td>2599</td>\n",
              "      <td>2599</td>\n",
              "      <td>Купальники</td>\n",
              "      <td>11351</td>\n",
              "      <td>2599</td>\n",
              "      <td>Купальники</td>\n",
              "      <td>11351</td>\n",
              "    </tr>\n",
              "    <tr>\n",
              "      <th>29159</th>\n",
              "      <td>13046</td>\n",
              "      <td>13046</td>\n",
              "      <td>13046</td>\n",
              "      <td>Эмульсии и эликсиры</td>\n",
              "      <td>10918</td>\n",
              "      <td>13046</td>\n",
              "      <td>Эмульсии и эликсиры</td>\n",
              "      <td>10918</td>\n",
              "    </tr>\n",
              "    <tr>\n",
              "      <th>17795</th>\n",
              "      <td>13901</td>\n",
              "      <td>13901</td>\n",
              "      <td>13901</td>\n",
              "      <td>Емкости для специй и мельницы</td>\n",
              "      <td>10992</td>\n",
              "      <td>13901</td>\n",
              "      <td>Емкости для специй и мельницы</td>\n",
              "      <td>10992</td>\n",
              "    </tr>\n",
              "    <tr>\n",
              "      <th>13118</th>\n",
              "      <td>12665</td>\n",
              "      <td>12665</td>\n",
              "      <td>12665</td>\n",
              "      <td>Чехлы и кейсы</td>\n",
              "      <td>10765</td>\n",
              "      <td>12665</td>\n",
              "      <td>Чехлы и кейсы</td>\n",
              "      <td>10765</td>\n",
              "    </tr>\n",
              "    <tr>\n",
              "      <th>17005</th>\n",
              "      <td>14065</td>\n",
              "      <td>14065</td>\n",
              "      <td>14065</td>\n",
              "      <td>Зарядные устройства для аккумуляторов</td>\n",
              "      <td>10073</td>\n",
              "      <td>14065</td>\n",
              "      <td>Зарядные устройства для аккумуляторов</td>\n",
              "      <td>10073</td>\n",
              "    </tr>\n",
              "    <tr>\n",
              "      <th>28461</th>\n",
              "      <td>13408</td>\n",
              "      <td>13408</td>\n",
              "      <td>13408</td>\n",
              "      <td>Защитные стекла и пленки</td>\n",
              "      <td>10398</td>\n",
              "      <td>13408</td>\n",
              "      <td>Защитные стекла и пленки</td>\n",
              "      <td>10398</td>\n",
              "    </tr>\n",
              "  </tbody>\n",
              "</table>\n",
              "</div>"
            ],
            "text/plain": [
              "       true_label   pred   id_x                                title_x  \\\n",
              "19450       11937  11937  11937                                  Чехлы   \n",
              "25450       12454  12454  12454                          Дизайн ногтей   \n",
              "27715        2663   2663   2663                        Скрабы и пилинг   \n",
              "10843       12084  12084  12084                     Религиозная одежда   \n",
              "7202         2599   2599   2599                             Купальники   \n",
              "29159       13046  13046  13046                    Эмульсии и эликсиры   \n",
              "17795       13901  13901  13901          Емкости для специй и мельницы   \n",
              "13118       12665  12665  12665                          Чехлы и кейсы   \n",
              "17005       14065  14065  14065  Зарядные устройства для аккумуляторов   \n",
              "28461       13408  13408  13408               Защитные стекла и пленки   \n",
              "\n",
              "       parent_id_x   id_y                                title_y  parent_id_y  \n",
              "19450        10398  11937                                  Чехлы        10398  \n",
              "25450        10113  12454                          Дизайн ногтей        10113  \n",
              "27715        10137   2663                        Скрабы и пилинг        10137  \n",
              "10843        10014  12084                     Религиозная одежда        10014  \n",
              "7202         11351   2599                             Купальники        11351  \n",
              "29159        10918  13046                    Эмульсии и эликсиры        10918  \n",
              "17795        10992  13901          Емкости для специй и мельницы        10992  \n",
              "13118        10765  12665                          Чехлы и кейсы        10765  \n",
              "17005        10073  14065  Зарядные устройства для аккумуляторов        10073  \n",
              "28461        10398  13408               Защитные стекла и пленки        10398  "
            ]
          },
          "execution_count": 46,
          "metadata": {},
          "output_type": "execute_result"
        }
      ],
      "source": [
        "df3.sample(10)"
      ]
    },
    {
      "cell_type": "markdown",
      "source": [
        "Выглядит достаточно хорошо :)\n",
        "\n",
        "Теперь создадим функцию для высчитывания приблизительной иерархической F-меры. Сделаем допущение, что каждый объект мы сравниваем именно с его true path, поэтому Ti = 2."
      ],
      "metadata": {
        "id": "Jw_mkAYtqkZU"
      }
    },
    {
      "cell_type": "code",
      "execution_count": null,
      "metadata": {
        "id": "ZKQZq1H7vDsa"
      },
      "outputs": [],
      "source": [
        "def hF1_custom(df, true, parent_true, pred, parent_pred):\n",
        "    df['Pi'] = 0\n",
        "    df.loc[df[true] == df[pred], 'Pi'] = 2\n",
        "    df.loc[(df[true] != df[pred])&(df[parent_true] == df[parent_pred]), 'Pi'] = 1\n",
        "    df['Ti'] = 2\n",
        "    df['Ti Pi'] = df3[['Ti','Pi']].min(axis=1)\n",
        "    hP = df['Ti Pi'].sum()/df['Pi'].sum()\n",
        "    hR = df['Ti Pi'].sum()/df['Ti'].sum()\n",
        "    hF = (2 * hP * hR)/(hP + hR)\n",
        "    return hF"
      ]
    },
    {
      "cell_type": "code",
      "execution_count": null,
      "metadata": {
        "id": "mzt0F78VvDsa",
        "outputId": "fdd8a9a4-5a85-4f1d-9bb8-1ec75018e8ce"
      },
      "outputs": [
        {
          "name": "stdout",
          "output_type": "stream",
          "text": [
            "Кастомная иерархическая F-мера: 0.9272291587842098\n"
          ]
        }
      ],
      "source": [
        "hF = hF1_custom(df3, 'id_x', 'parent_id_x', 'id_y', 'parent_id_y')\n",
        "print(f'Кастомная иерархическая F-мера: {hF}')"
      ]
    },
    {
      "cell_type": "markdown",
      "metadata": {
        "id": "jHxdYWX5e6Ix"
      },
      "source": [
        "# Сохранение модели"
      ]
    },
    {
      "cell_type": "code",
      "execution_count": null,
      "metadata": {
        "id": "odl-_-S1WhWr",
        "outputId": "13d45e95-a137-47cf-c7f2-b05fdb2da027"
      },
      "outputs": [
        {
          "name": "stdout",
          "output_type": "stream",
          "text": [
            "Сохранение в ./DeepPavlov/rubert-base-cased/\n"
          ]
        },
        {
          "data": {
            "text/plain": [
              "('./DeepPavlov/rubert-base-cased/tokenizer_config.json',\n",
              " './DeepPavlov/rubert-base-cased/special_tokens_map.json',\n",
              " './DeepPavlov/rubert-base-cased/vocab.txt',\n",
              " './DeepPavlov/rubert-base-cased/added_tokens.json',\n",
              " './DeepPavlov/rubert-base-cased/tokenizer.json')"
            ]
          },
          "execution_count": 39,
          "metadata": {},
          "output_type": "execute_result"
        }
      ],
      "source": [
        "# Сохраним модель в директорию с полным названием модели, \n",
        "#     для более удобного импорта с помощью from_pretrained\n",
        "\n",
        "output_dir = f\"./{model_name}/\"\n",
        "\n",
        "if not os.path.exists(output_dir):\n",
        "    os.makedirs(output_dir)\n",
        "\n",
        "print(f\"Сохранение в {output_dir}\")\n",
        "\n",
        "model_to_save = model.module if hasattr(model, 'module') else model\n",
        "model_to_save.save_pretrained(output_dir)\n",
        "tokenizer.save_pretrained(output_dir)"
      ]
    },
    {
      "cell_type": "markdown",
      "metadata": {
        "id": "OL9ERvoUWn6T"
      },
      "source": [
        "# Загрузка модели"
      ]
    },
    {
      "cell_type": "code",
      "execution_count": null,
      "metadata": {
        "collapsed": true,
        "id": "6QdcrcV1Wl0v",
        "jupyter": {
          "outputs_hidden": true
        },
        "tags": []
      },
      "outputs": [],
      "source": [
        "input_dir = f\"./{model_name}/\"\n",
        "\n",
        "model = AutoModelForSequenceClassification.from_pretrained(input_dir)\n",
        "tokenizer = AutoTokenizer.from_pretrained(input_dir)\n",
        "\n",
        "model.to(device)"
      ]
    },
    {
      "cell_type": "markdown",
      "metadata": {
        "tags": [],
        "id": "DEa7u2N4vDsc"
      },
      "source": [
        "# Предсказание"
      ]
    },
    {
      "cell_type": "markdown",
      "source": [
        "Подготовим датасет аналогично тому, как готовили тренировочный"
      ],
      "metadata": {
        "id": "uCQ_Ow5Cs0x0"
      }
    },
    {
      "cell_type": "code",
      "execution_count": null,
      "metadata": {
        "colab": {
          "base_uri": "https://localhost:8080/"
        },
        "id": "xEEyo5ODvDsc",
        "outputId": "2f2e0c87-5bf5-403b-ee1b-f167eee03baf"
      },
      "outputs": [
        {
          "output_type": "execute_result",
          "data": {
            "text/plain": [
              "(70864, 6)"
            ]
          },
          "metadata": {},
          "execution_count": 5
        }
      ],
      "source": [
        "to_predict = pd.read_parquet('test.parquet')\n",
        "to_predict.shape"
      ]
    },
    {
      "cell_type": "code",
      "execution_count": null,
      "metadata": {
        "colab": {
          "base_uri": "https://localhost:8080/",
          "height": 206
        },
        "id": "RGAB8tJ0vDsc",
        "outputId": "0760da3f-4a7a-40bd-b240-f37cb2833d1a"
      },
      "outputs": [
        {
          "output_type": "execute_result",
          "data": {
            "text/plain": [
              "        id                                              title  \\\n",
              "0  1070974                Браслет из натуральных камней LOTUS   \n",
              "1   450413  Fusion Life - Шампунь для сухих и окрашенных в...   \n",
              "2   126857         Микрофон для ПК jack 3,5мм всенаправленный   \n",
              "3  1577569                             Серьги гвоздики сердце   \n",
              "4   869328  Чёрно-красная стильная брошь \"Тюльпаны\" из акр...   \n",
              "\n",
              "                                   short_description  \\\n",
              "0                                               None   \n",
              "1                                               None   \n",
              "2     универсальный 3,5 мм микрофон запишет ваш звук   \n",
              "3                             Серьги гвоздики сердце   \n",
              "4  Стильная и яркая брошь ручной работы! Великоле...   \n",
              "\n",
              "  name_value_characteristics    rating  feedback_quantity  \n",
              "0                       None  0.000000                  0  \n",
              "1                       None  4.333333                  6  \n",
              "2                       None  3.708333                 24  \n",
              "3                       None  0.000000                  0  \n",
              "4                       None  0.000000                  0  "
            ],
            "text/html": [
              "\n",
              "  <div id=\"df-7a69b9a2-3458-432c-bd3c-4efd5a2a2a95\">\n",
              "    <div class=\"colab-df-container\">\n",
              "      <div>\n",
              "<style scoped>\n",
              "    .dataframe tbody tr th:only-of-type {\n",
              "        vertical-align: middle;\n",
              "    }\n",
              "\n",
              "    .dataframe tbody tr th {\n",
              "        vertical-align: top;\n",
              "    }\n",
              "\n",
              "    .dataframe thead th {\n",
              "        text-align: right;\n",
              "    }\n",
              "</style>\n",
              "<table border=\"1\" class=\"dataframe\">\n",
              "  <thead>\n",
              "    <tr style=\"text-align: right;\">\n",
              "      <th></th>\n",
              "      <th>id</th>\n",
              "      <th>title</th>\n",
              "      <th>short_description</th>\n",
              "      <th>name_value_characteristics</th>\n",
              "      <th>rating</th>\n",
              "      <th>feedback_quantity</th>\n",
              "    </tr>\n",
              "  </thead>\n",
              "  <tbody>\n",
              "    <tr>\n",
              "      <th>0</th>\n",
              "      <td>1070974</td>\n",
              "      <td>Браслет из натуральных камней LOTUS</td>\n",
              "      <td>None</td>\n",
              "      <td>None</td>\n",
              "      <td>0.000000</td>\n",
              "      <td>0</td>\n",
              "    </tr>\n",
              "    <tr>\n",
              "      <th>1</th>\n",
              "      <td>450413</td>\n",
              "      <td>Fusion Life - Шампунь для сухих и окрашенных в...</td>\n",
              "      <td>None</td>\n",
              "      <td>None</td>\n",
              "      <td>4.333333</td>\n",
              "      <td>6</td>\n",
              "    </tr>\n",
              "    <tr>\n",
              "      <th>2</th>\n",
              "      <td>126857</td>\n",
              "      <td>Микрофон для ПК jack 3,5мм всенаправленный</td>\n",
              "      <td>универсальный 3,5 мм микрофон запишет ваш звук</td>\n",
              "      <td>None</td>\n",
              "      <td>3.708333</td>\n",
              "      <td>24</td>\n",
              "    </tr>\n",
              "    <tr>\n",
              "      <th>3</th>\n",
              "      <td>1577569</td>\n",
              "      <td>Серьги гвоздики сердце</td>\n",
              "      <td>Серьги гвоздики сердце</td>\n",
              "      <td>None</td>\n",
              "      <td>0.000000</td>\n",
              "      <td>0</td>\n",
              "    </tr>\n",
              "    <tr>\n",
              "      <th>4</th>\n",
              "      <td>869328</td>\n",
              "      <td>Чёрно-красная стильная брошь \"Тюльпаны\" из акр...</td>\n",
              "      <td>Стильная и яркая брошь ручной работы! Великоле...</td>\n",
              "      <td>None</td>\n",
              "      <td>0.000000</td>\n",
              "      <td>0</td>\n",
              "    </tr>\n",
              "  </tbody>\n",
              "</table>\n",
              "</div>\n",
              "      <button class=\"colab-df-convert\" onclick=\"convertToInteractive('df-7a69b9a2-3458-432c-bd3c-4efd5a2a2a95')\"\n",
              "              title=\"Convert this dataframe to an interactive table.\"\n",
              "              style=\"display:none;\">\n",
              "        \n",
              "  <svg xmlns=\"http://www.w3.org/2000/svg\" height=\"24px\"viewBox=\"0 0 24 24\"\n",
              "       width=\"24px\">\n",
              "    <path d=\"M0 0h24v24H0V0z\" fill=\"none\"/>\n",
              "    <path d=\"M18.56 5.44l.94 2.06.94-2.06 2.06-.94-2.06-.94-.94-2.06-.94 2.06-2.06.94zm-11 1L8.5 8.5l.94-2.06 2.06-.94-2.06-.94L8.5 2.5l-.94 2.06-2.06.94zm10 10l.94 2.06.94-2.06 2.06-.94-2.06-.94-.94-2.06-.94 2.06-2.06.94z\"/><path d=\"M17.41 7.96l-1.37-1.37c-.4-.4-.92-.59-1.43-.59-.52 0-1.04.2-1.43.59L10.3 9.45l-7.72 7.72c-.78.78-.78 2.05 0 2.83L4 21.41c.39.39.9.59 1.41.59.51 0 1.02-.2 1.41-.59l7.78-7.78 2.81-2.81c.8-.78.8-2.07 0-2.86zM5.41 20L4 18.59l7.72-7.72 1.47 1.35L5.41 20z\"/>\n",
              "  </svg>\n",
              "      </button>\n",
              "      \n",
              "  <style>\n",
              "    .colab-df-container {\n",
              "      display:flex;\n",
              "      flex-wrap:wrap;\n",
              "      gap: 12px;\n",
              "    }\n",
              "\n",
              "    .colab-df-convert {\n",
              "      background-color: #E8F0FE;\n",
              "      border: none;\n",
              "      border-radius: 50%;\n",
              "      cursor: pointer;\n",
              "      display: none;\n",
              "      fill: #1967D2;\n",
              "      height: 32px;\n",
              "      padding: 0 0 0 0;\n",
              "      width: 32px;\n",
              "    }\n",
              "\n",
              "    .colab-df-convert:hover {\n",
              "      background-color: #E2EBFA;\n",
              "      box-shadow: 0px 1px 2px rgba(60, 64, 67, 0.3), 0px 1px 3px 1px rgba(60, 64, 67, 0.15);\n",
              "      fill: #174EA6;\n",
              "    }\n",
              "\n",
              "    [theme=dark] .colab-df-convert {\n",
              "      background-color: #3B4455;\n",
              "      fill: #D2E3FC;\n",
              "    }\n",
              "\n",
              "    [theme=dark] .colab-df-convert:hover {\n",
              "      background-color: #434B5C;\n",
              "      box-shadow: 0px 1px 3px 1px rgba(0, 0, 0, 0.15);\n",
              "      filter: drop-shadow(0px 1px 2px rgba(0, 0, 0, 0.3));\n",
              "      fill: #FFFFFF;\n",
              "    }\n",
              "  </style>\n",
              "\n",
              "      <script>\n",
              "        const buttonEl =\n",
              "          document.querySelector('#df-7a69b9a2-3458-432c-bd3c-4efd5a2a2a95 button.colab-df-convert');\n",
              "        buttonEl.style.display =\n",
              "          google.colab.kernel.accessAllowed ? 'block' : 'none';\n",
              "\n",
              "        async function convertToInteractive(key) {\n",
              "          const element = document.querySelector('#df-7a69b9a2-3458-432c-bd3c-4efd5a2a2a95');\n",
              "          const dataTable =\n",
              "            await google.colab.kernel.invokeFunction('convertToInteractive',\n",
              "                                                     [key], {});\n",
              "          if (!dataTable) return;\n",
              "\n",
              "          const docLinkHtml = 'Like what you see? Visit the ' +\n",
              "            '<a target=\"_blank\" href=https://colab.research.google.com/notebooks/data_table.ipynb>data table notebook</a>'\n",
              "            + ' to learn more about interactive tables.';\n",
              "          element.innerHTML = '';\n",
              "          dataTable['output_type'] = 'display_data';\n",
              "          await google.colab.output.renderOutput(dataTable, element);\n",
              "          const docLink = document.createElement('div');\n",
              "          docLink.innerHTML = docLinkHtml;\n",
              "          element.appendChild(docLink);\n",
              "        }\n",
              "      </script>\n",
              "    </div>\n",
              "  </div>\n",
              "  "
            ]
          },
          "metadata": {},
          "execution_count": 6
        }
      ],
      "source": [
        "to_predict.head()"
      ]
    },
    {
      "cell_type": "code",
      "execution_count": null,
      "metadata": {
        "id": "lcPpsCJsvDsd"
      },
      "outputs": [],
      "source": [
        "to_predict['title'] = to_predict['title'].astype(str) + ' ' + to_predict['short_description'].astype(str)"
      ]
    },
    {
      "cell_type": "code",
      "execution_count": null,
      "metadata": {
        "colab": {
          "base_uri": "https://localhost:8080/"
        },
        "id": "6SJr3UAuvDsd",
        "outputId": "0cdcb6a7-05de-4fd9-b721-769a1be6cc8e"
      },
      "outputs": [
        {
          "output_type": "stream",
          "name": "stderr",
          "text": [
            "100%|██████████| 70864/70864 [03:21<00:00, 351.80it/s]\n"
          ]
        }
      ],
      "source": [
        "text_cleaning(to_predict, 'title')"
      ]
    },
    {
      "cell_type": "markdown",
      "source": [
        "Токенизируем значения и создадим DataLoader"
      ],
      "metadata": {
        "id": "lYs_AtTDs8ZL"
      }
    },
    {
      "cell_type": "code",
      "execution_count": null,
      "metadata": {
        "id": "o5qOGuzkvDsd"
      },
      "outputs": [],
      "source": [
        "texts = to_predict.title.values"
      ]
    },
    {
      "cell_type": "code",
      "execution_count": null,
      "metadata": {
        "id": "zUlGT6DuWze0",
        "colab": {
          "base_uri": "https://localhost:8080/"
        },
        "outputId": "89e17444-4963-442d-a0c5-c9b655ff76fc"
      },
      "outputs": [
        {
          "output_type": "stream",
          "name": "stderr",
          "text": [
            "100%|██████████| 70864/70864 [00:21<00:00, 3296.69it/s]\n"
          ]
        }
      ],
      "source": [
        "input_ids = []\n",
        "attention_masks = []\n",
        "\n",
        "for text in tqdm(texts, total=len(texts)):\n",
        "    encoded_dict = tokenizer.encode_plus(\n",
        "                          text,            \n",
        "                          add_special_tokens = True,\n",
        "                          max_length = 120,\n",
        "                          padding='max_length',\n",
        "                          return_attention_mask = True,\n",
        "                          return_tensors = 'pt')\n",
        "    \n",
        "    input_ids.append(encoded_dict['input_ids'])\n",
        "\n",
        "    attention_masks.append(encoded_dict['attention_mask'])\n",
        "\n",
        "input_ids = torch.cat(input_ids, dim=0)\n",
        "attention_masks = torch.cat(attention_masks, dim=0)"
      ]
    },
    {
      "cell_type": "code",
      "source": [
        "predict_dataset = TensorDataset(input_ids, attention_masks)\n",
        "\n",
        "predict_dataloader = DataLoader(\n",
        "            predict_dataset,\n",
        "            sampler = SequentialSampler(predict_dataset),\n",
        "            batch_size = 128\n",
        "        )"
      ],
      "metadata": {
        "id": "A_hY5lx995sh"
      },
      "execution_count": null,
      "outputs": []
    },
    {
      "cell_type": "markdown",
      "source": [
        "Производим предикт с помощью нашей обученной модели, только с переключением ее в режим eval и без вычисления градиента."
      ],
      "metadata": {
        "id": "VgDMB-Cj6Az5"
      }
    },
    {
      "cell_type": "code",
      "source": [
        "model.eval()\n",
        "\n",
        "predictions = []\n",
        "\n",
        "for batch in predict_dataloader:\n",
        "\n",
        "    batch = tuple(t.to(device) for t in batch)\n",
        "\n",
        "    b_input_ids, b_input_mask = batch\n",
        "\n",
        "    with torch.no_grad():\n",
        "          outputs = model(input_ids=b_input_ids,\n",
        "                          attention_mask=b_input_mask)\n",
        "\n",
        "    logits = outputs[0]\n",
        "\n",
        "    logits = logits.detach().cpu().numpy()\n",
        "\n",
        "    predictions.extend(logits)\n"
      ],
      "metadata": {
        "id": "7ejMvl4o-5G7"
      },
      "execution_count": null,
      "outputs": []
    },
    {
      "cell_type": "code",
      "execution_count": null,
      "metadata": {
        "colab": {
          "base_uri": "https://localhost:8080/"
        },
        "id": "gmKwO8sEvDse",
        "outputId": "a2c6ac00-c30c-482b-a8aa-f50a5c526731"
      },
      "outputs": [
        {
          "output_type": "stream",
          "name": "stderr",
          "text": [
            "100%|██████████| 70864/70864 [00:00<00:00, 191261.38it/s]\n"
          ]
        }
      ],
      "source": [
        "pred_labels = []\n",
        "for i in tqdm(predictions):\n",
        "    pred_idx = np.argmax(i)\n",
        "    pred_labels.append(label_names[pred_idx])"
      ]
    },
    {
      "cell_type": "markdown",
      "source": [
        "Теперь настало время собрать сводную таблицу по предсказанным классом и посмотреть, что получилось"
      ],
      "metadata": {
        "id": "W_gSaU2ptIqe"
      }
    },
    {
      "cell_type": "code",
      "execution_count": null,
      "metadata": {
        "id": "UlzaY2VivDse"
      },
      "outputs": [],
      "source": [
        "to_predict['category_id'] = pred_labels"
      ]
    },
    {
      "cell_type": "code",
      "execution_count": null,
      "metadata": {
        "colab": {
          "base_uri": "https://localhost:8080/",
          "height": 206
        },
        "id": "dozTiFfOvDsf",
        "outputId": "3c3da71d-4c72-457b-fcdb-96ebdfa57e45"
      },
      "outputs": [
        {
          "output_type": "execute_result",
          "data": {
            "text/plain": [
              "        id                                         item_title  \\\n",
              "0  1070974                браслет из натуральных камней         \n",
              "1   450413     шампунь для сухих и окрашенных волос личи  ...   \n",
              "2   126857  микрофон для пк    мм всенаправленный универса...   \n",
              "3  1577569      серьги гвоздики сердце серьги гвоздики сердце   \n",
              "4   869328  чёрнокрасная стильная брошь тюльпаны из акрила...   \n",
              "\n",
              "   predicted_category_id  cat_title  cat_parent  \n",
              "0                  11574   Браслеты       10104  \n",
              "1                  11878    Шампуни       10705  \n",
              "2                  13299  Микрофоны       10374  \n",
              "3                  13061     Серьги       10104  \n",
              "4                  12813      Броши       10104  "
            ],
            "text/html": [
              "\n",
              "  <div id=\"df-54854edc-668a-4c34-a884-33e103fb8a3e\">\n",
              "    <div class=\"colab-df-container\">\n",
              "      <div>\n",
              "<style scoped>\n",
              "    .dataframe tbody tr th:only-of-type {\n",
              "        vertical-align: middle;\n",
              "    }\n",
              "\n",
              "    .dataframe tbody tr th {\n",
              "        vertical-align: top;\n",
              "    }\n",
              "\n",
              "    .dataframe thead th {\n",
              "        text-align: right;\n",
              "    }\n",
              "</style>\n",
              "<table border=\"1\" class=\"dataframe\">\n",
              "  <thead>\n",
              "    <tr style=\"text-align: right;\">\n",
              "      <th></th>\n",
              "      <th>id</th>\n",
              "      <th>item_title</th>\n",
              "      <th>predicted_category_id</th>\n",
              "      <th>cat_title</th>\n",
              "      <th>cat_parent</th>\n",
              "    </tr>\n",
              "  </thead>\n",
              "  <tbody>\n",
              "    <tr>\n",
              "      <th>0</th>\n",
              "      <td>1070974</td>\n",
              "      <td>браслет из натуральных камней</td>\n",
              "      <td>11574</td>\n",
              "      <td>Браслеты</td>\n",
              "      <td>10104</td>\n",
              "    </tr>\n",
              "    <tr>\n",
              "      <th>1</th>\n",
              "      <td>450413</td>\n",
              "      <td>шампунь для сухих и окрашенных волос личи  ...</td>\n",
              "      <td>11878</td>\n",
              "      <td>Шампуни</td>\n",
              "      <td>10705</td>\n",
              "    </tr>\n",
              "    <tr>\n",
              "      <th>2</th>\n",
              "      <td>126857</td>\n",
              "      <td>микрофон для пк    мм всенаправленный универса...</td>\n",
              "      <td>13299</td>\n",
              "      <td>Микрофоны</td>\n",
              "      <td>10374</td>\n",
              "    </tr>\n",
              "    <tr>\n",
              "      <th>3</th>\n",
              "      <td>1577569</td>\n",
              "      <td>серьги гвоздики сердце серьги гвоздики сердце</td>\n",
              "      <td>13061</td>\n",
              "      <td>Серьги</td>\n",
              "      <td>10104</td>\n",
              "    </tr>\n",
              "    <tr>\n",
              "      <th>4</th>\n",
              "      <td>869328</td>\n",
              "      <td>чёрнокрасная стильная брошь тюльпаны из акрила...</td>\n",
              "      <td>12813</td>\n",
              "      <td>Броши</td>\n",
              "      <td>10104</td>\n",
              "    </tr>\n",
              "  </tbody>\n",
              "</table>\n",
              "</div>\n",
              "      <button class=\"colab-df-convert\" onclick=\"convertToInteractive('df-54854edc-668a-4c34-a884-33e103fb8a3e')\"\n",
              "              title=\"Convert this dataframe to an interactive table.\"\n",
              "              style=\"display:none;\">\n",
              "        \n",
              "  <svg xmlns=\"http://www.w3.org/2000/svg\" height=\"24px\"viewBox=\"0 0 24 24\"\n",
              "       width=\"24px\">\n",
              "    <path d=\"M0 0h24v24H0V0z\" fill=\"none\"/>\n",
              "    <path d=\"M18.56 5.44l.94 2.06.94-2.06 2.06-.94-2.06-.94-.94-2.06-.94 2.06-2.06.94zm-11 1L8.5 8.5l.94-2.06 2.06-.94-2.06-.94L8.5 2.5l-.94 2.06-2.06.94zm10 10l.94 2.06.94-2.06 2.06-.94-2.06-.94-.94-2.06-.94 2.06-2.06.94z\"/><path d=\"M17.41 7.96l-1.37-1.37c-.4-.4-.92-.59-1.43-.59-.52 0-1.04.2-1.43.59L10.3 9.45l-7.72 7.72c-.78.78-.78 2.05 0 2.83L4 21.41c.39.39.9.59 1.41.59.51 0 1.02-.2 1.41-.59l7.78-7.78 2.81-2.81c.8-.78.8-2.07 0-2.86zM5.41 20L4 18.59l7.72-7.72 1.47 1.35L5.41 20z\"/>\n",
              "  </svg>\n",
              "      </button>\n",
              "      \n",
              "  <style>\n",
              "    .colab-df-container {\n",
              "      display:flex;\n",
              "      flex-wrap:wrap;\n",
              "      gap: 12px;\n",
              "    }\n",
              "\n",
              "    .colab-df-convert {\n",
              "      background-color: #E8F0FE;\n",
              "      border: none;\n",
              "      border-radius: 50%;\n",
              "      cursor: pointer;\n",
              "      display: none;\n",
              "      fill: #1967D2;\n",
              "      height: 32px;\n",
              "      padding: 0 0 0 0;\n",
              "      width: 32px;\n",
              "    }\n",
              "\n",
              "    .colab-df-convert:hover {\n",
              "      background-color: #E2EBFA;\n",
              "      box-shadow: 0px 1px 2px rgba(60, 64, 67, 0.3), 0px 1px 3px 1px rgba(60, 64, 67, 0.15);\n",
              "      fill: #174EA6;\n",
              "    }\n",
              "\n",
              "    [theme=dark] .colab-df-convert {\n",
              "      background-color: #3B4455;\n",
              "      fill: #D2E3FC;\n",
              "    }\n",
              "\n",
              "    [theme=dark] .colab-df-convert:hover {\n",
              "      background-color: #434B5C;\n",
              "      box-shadow: 0px 1px 3px 1px rgba(0, 0, 0, 0.15);\n",
              "      filter: drop-shadow(0px 1px 2px rgba(0, 0, 0, 0.3));\n",
              "      fill: #FFFFFF;\n",
              "    }\n",
              "  </style>\n",
              "\n",
              "      <script>\n",
              "        const buttonEl =\n",
              "          document.querySelector('#df-54854edc-668a-4c34-a884-33e103fb8a3e button.colab-df-convert');\n",
              "        buttonEl.style.display =\n",
              "          google.colab.kernel.accessAllowed ? 'block' : 'none';\n",
              "\n",
              "        async function convertToInteractive(key) {\n",
              "          const element = document.querySelector('#df-54854edc-668a-4c34-a884-33e103fb8a3e');\n",
              "          const dataTable =\n",
              "            await google.colab.kernel.invokeFunction('convertToInteractive',\n",
              "                                                     [key], {});\n",
              "          if (!dataTable) return;\n",
              "\n",
              "          const docLinkHtml = 'Like what you see? Visit the ' +\n",
              "            '<a target=\"_blank\" href=https://colab.research.google.com/notebooks/data_table.ipynb>data table notebook</a>'\n",
              "            + ' to learn more about interactive tables.';\n",
              "          element.innerHTML = '';\n",
              "          dataTable['output_type'] = 'display_data';\n",
              "          await google.colab.output.renderOutput(dataTable, element);\n",
              "          const docLink = document.createElement('div');\n",
              "          docLink.innerHTML = docLinkHtml;\n",
              "          element.appendChild(docLink);\n",
              "        }\n",
              "      </script>\n",
              "    </div>\n",
              "  </div>\n",
              "  "
            ]
          },
          "metadata": {},
          "execution_count": 24
        }
      ],
      "source": [
        "merged_test = to_predict.merge(cat_df, how='left', left_on='category_id', right_on='id')\n",
        "merged_test = merged_test.drop(['id_y', 'short_description', 'name_value_characteristics', 'rating', 'feedback_quantity'], axis=1)\n",
        "col_map = {'id_x': 'id', 'title_x': 'item_title', 'title_y': 'cat_title', 'parent_id': 'cat_parent', 'category_id': 'predicted_category_id'}\n",
        "merged_test = merged_test.rename(columns=col_map)\n",
        "\n",
        "merged_test.head()"
      ]
    },
    {
      "cell_type": "code",
      "execution_count": null,
      "metadata": {
        "colab": {
          "base_uri": "https://localhost:8080/",
          "height": 677
        },
        "id": "4OfOFRr_vDsf",
        "outputId": "f67baf64-ff26-477d-b009-97e1ee644c75"
      },
      "outputs": [
        {
          "output_type": "execute_result",
          "data": {
            "text/plain": [
              "            id                                         item_title  \\\n",
              "38135   796677  тоника  оттеночный бальзам для тонирования вол...   \n",
              "9433   1491396  браслет из натурального камня амазонита брасле...   \n",
              "17722   938043  электрогирлянда  ламп  м электрогирлянда элект...   \n",
              "4942    321312                                         боди         \n",
              "59226  1248940                         детский браслет мишки        \n",
              "11492  1142820  зарядка для айфона  кабель  для зарядки       ...   \n",
              "1726   1160416  вращающаяся подставка для торта  см вращающаяс...   \n",
              "54041  1227051  молочко   для тела тонизирующее спорт и фитнес...   \n",
              "54526  1387357  комплект сетчатого нижнего белья с бантиком ко...   \n",
              "31470  1562653  крем от натоптышей       мл крем от натоптышей...   \n",
              "19857  1166813               комплект женского нижнего белья        \n",
              "8007    864724         профессиональный шампунь с кератином дв...   \n",
              "36412   302212  чехол для        мятая бумага чехолнакладка дл...   \n",
              "15946  1266609                                      джемпер         \n",
              "34671  1168953  водолазка женская лапша бесплатная доставка за...   \n",
              "18474  1081910  гирлянда новогодняя снежинки светодиодная разн...   \n",
              "23682  1397820  шампунь для восстановления структуры волос    ...   \n",
              "50793   931273                                      салфетки        \n",
              "8022   1576073                                смартфон              \n",
              "66297   720924                         комплект женский  пр         \n",
              "\n",
              "       predicted_category_id                         cat_title  cat_parent  \n",
              "38135                  12616  Оттеночные и тонирующие средства       11285  \n",
              "9433                   11574                          Браслеты       10104  \n",
              "17722                  13495                          Гирлянды       10508  \n",
              "4942                   12415                Боди и комбинезоны       10095  \n",
              "59226                  12434                          Браслеты       10160  \n",
              "11492                  12171                            Кабели       11281  \n",
              "1726                   11896                             Блюда       10377  \n",
              "54041                  12882                 Лосьоны и молочко       10918  \n",
              "54526                  12657                   Комплекты белья       11351  \n",
              "31470                  14113                     Кремы для ног       10918  \n",
              "19857                  12657                   Комплекты белья       11351  \n",
              "8007                   11878                           Шампуни       10705  \n",
              "36412                  11937                             Чехлы       10398  \n",
              "15946                   2831              Спортивные толстовки        2812  \n",
              "34671                  13384                         Водолазки       11379  \n",
              "18474                  13495                          Гирлянды       10508  \n",
              "23682                  11878                           Шампуни       10705  \n",
              "50793                  12741          Тряпки, салфетки и губки       10559  \n",
              "8022                   12690                         Смартфоны       10044  \n",
              "66297                  13205                         Комплекты       11116  "
            ],
            "text/html": [
              "\n",
              "  <div id=\"df-710d5142-dd7c-4f1a-89a9-294470d5f326\">\n",
              "    <div class=\"colab-df-container\">\n",
              "      <div>\n",
              "<style scoped>\n",
              "    .dataframe tbody tr th:only-of-type {\n",
              "        vertical-align: middle;\n",
              "    }\n",
              "\n",
              "    .dataframe tbody tr th {\n",
              "        vertical-align: top;\n",
              "    }\n",
              "\n",
              "    .dataframe thead th {\n",
              "        text-align: right;\n",
              "    }\n",
              "</style>\n",
              "<table border=\"1\" class=\"dataframe\">\n",
              "  <thead>\n",
              "    <tr style=\"text-align: right;\">\n",
              "      <th></th>\n",
              "      <th>id</th>\n",
              "      <th>item_title</th>\n",
              "      <th>predicted_category_id</th>\n",
              "      <th>cat_title</th>\n",
              "      <th>cat_parent</th>\n",
              "    </tr>\n",
              "  </thead>\n",
              "  <tbody>\n",
              "    <tr>\n",
              "      <th>38135</th>\n",
              "      <td>796677</td>\n",
              "      <td>тоника  оттеночный бальзам для тонирования вол...</td>\n",
              "      <td>12616</td>\n",
              "      <td>Оттеночные и тонирующие средства</td>\n",
              "      <td>11285</td>\n",
              "    </tr>\n",
              "    <tr>\n",
              "      <th>9433</th>\n",
              "      <td>1491396</td>\n",
              "      <td>браслет из натурального камня амазонита брасле...</td>\n",
              "      <td>11574</td>\n",
              "      <td>Браслеты</td>\n",
              "      <td>10104</td>\n",
              "    </tr>\n",
              "    <tr>\n",
              "      <th>17722</th>\n",
              "      <td>938043</td>\n",
              "      <td>электрогирлянда  ламп  м электрогирлянда элект...</td>\n",
              "      <td>13495</td>\n",
              "      <td>Гирлянды</td>\n",
              "      <td>10508</td>\n",
              "    </tr>\n",
              "    <tr>\n",
              "      <th>4942</th>\n",
              "      <td>321312</td>\n",
              "      <td>боди</td>\n",
              "      <td>12415</td>\n",
              "      <td>Боди и комбинезоны</td>\n",
              "      <td>10095</td>\n",
              "    </tr>\n",
              "    <tr>\n",
              "      <th>59226</th>\n",
              "      <td>1248940</td>\n",
              "      <td>детский браслет мишки</td>\n",
              "      <td>12434</td>\n",
              "      <td>Браслеты</td>\n",
              "      <td>10160</td>\n",
              "    </tr>\n",
              "    <tr>\n",
              "      <th>11492</th>\n",
              "      <td>1142820</td>\n",
              "      <td>зарядка для айфона  кабель  для зарядки       ...</td>\n",
              "      <td>12171</td>\n",
              "      <td>Кабели</td>\n",
              "      <td>11281</td>\n",
              "    </tr>\n",
              "    <tr>\n",
              "      <th>1726</th>\n",
              "      <td>1160416</td>\n",
              "      <td>вращающаяся подставка для торта  см вращающаяс...</td>\n",
              "      <td>11896</td>\n",
              "      <td>Блюда</td>\n",
              "      <td>10377</td>\n",
              "    </tr>\n",
              "    <tr>\n",
              "      <th>54041</th>\n",
              "      <td>1227051</td>\n",
              "      <td>молочко   для тела тонизирующее спорт и фитнес...</td>\n",
              "      <td>12882</td>\n",
              "      <td>Лосьоны и молочко</td>\n",
              "      <td>10918</td>\n",
              "    </tr>\n",
              "    <tr>\n",
              "      <th>54526</th>\n",
              "      <td>1387357</td>\n",
              "      <td>комплект сетчатого нижнего белья с бантиком ко...</td>\n",
              "      <td>12657</td>\n",
              "      <td>Комплекты белья</td>\n",
              "      <td>11351</td>\n",
              "    </tr>\n",
              "    <tr>\n",
              "      <th>31470</th>\n",
              "      <td>1562653</td>\n",
              "      <td>крем от натоптышей       мл крем от натоптышей...</td>\n",
              "      <td>14113</td>\n",
              "      <td>Кремы для ног</td>\n",
              "      <td>10918</td>\n",
              "    </tr>\n",
              "    <tr>\n",
              "      <th>19857</th>\n",
              "      <td>1166813</td>\n",
              "      <td>комплект женского нижнего белья</td>\n",
              "      <td>12657</td>\n",
              "      <td>Комплекты белья</td>\n",
              "      <td>11351</td>\n",
              "    </tr>\n",
              "    <tr>\n",
              "      <th>8007</th>\n",
              "      <td>864724</td>\n",
              "      <td>профессиональный шампунь с кератином дв...</td>\n",
              "      <td>11878</td>\n",
              "      <td>Шампуни</td>\n",
              "      <td>10705</td>\n",
              "    </tr>\n",
              "    <tr>\n",
              "      <th>36412</th>\n",
              "      <td>302212</td>\n",
              "      <td>чехол для        мятая бумага чехолнакладка дл...</td>\n",
              "      <td>11937</td>\n",
              "      <td>Чехлы</td>\n",
              "      <td>10398</td>\n",
              "    </tr>\n",
              "    <tr>\n",
              "      <th>15946</th>\n",
              "      <td>1266609</td>\n",
              "      <td>джемпер</td>\n",
              "      <td>2831</td>\n",
              "      <td>Спортивные толстовки</td>\n",
              "      <td>2812</td>\n",
              "    </tr>\n",
              "    <tr>\n",
              "      <th>34671</th>\n",
              "      <td>1168953</td>\n",
              "      <td>водолазка женская лапша бесплатная доставка за...</td>\n",
              "      <td>13384</td>\n",
              "      <td>Водолазки</td>\n",
              "      <td>11379</td>\n",
              "    </tr>\n",
              "    <tr>\n",
              "      <th>18474</th>\n",
              "      <td>1081910</td>\n",
              "      <td>гирлянда новогодняя снежинки светодиодная разн...</td>\n",
              "      <td>13495</td>\n",
              "      <td>Гирлянды</td>\n",
              "      <td>10508</td>\n",
              "    </tr>\n",
              "    <tr>\n",
              "      <th>23682</th>\n",
              "      <td>1397820</td>\n",
              "      <td>шампунь для восстановления структуры волос    ...</td>\n",
              "      <td>11878</td>\n",
              "      <td>Шампуни</td>\n",
              "      <td>10705</td>\n",
              "    </tr>\n",
              "    <tr>\n",
              "      <th>50793</th>\n",
              "      <td>931273</td>\n",
              "      <td>салфетки</td>\n",
              "      <td>12741</td>\n",
              "      <td>Тряпки, салфетки и губки</td>\n",
              "      <td>10559</td>\n",
              "    </tr>\n",
              "    <tr>\n",
              "      <th>8022</th>\n",
              "      <td>1576073</td>\n",
              "      <td>смартфон</td>\n",
              "      <td>12690</td>\n",
              "      <td>Смартфоны</td>\n",
              "      <td>10044</td>\n",
              "    </tr>\n",
              "    <tr>\n",
              "      <th>66297</th>\n",
              "      <td>720924</td>\n",
              "      <td>комплект женский  пр</td>\n",
              "      <td>13205</td>\n",
              "      <td>Комплекты</td>\n",
              "      <td>11116</td>\n",
              "    </tr>\n",
              "  </tbody>\n",
              "</table>\n",
              "</div>\n",
              "      <button class=\"colab-df-convert\" onclick=\"convertToInteractive('df-710d5142-dd7c-4f1a-89a9-294470d5f326')\"\n",
              "              title=\"Convert this dataframe to an interactive table.\"\n",
              "              style=\"display:none;\">\n",
              "        \n",
              "  <svg xmlns=\"http://www.w3.org/2000/svg\" height=\"24px\"viewBox=\"0 0 24 24\"\n",
              "       width=\"24px\">\n",
              "    <path d=\"M0 0h24v24H0V0z\" fill=\"none\"/>\n",
              "    <path d=\"M18.56 5.44l.94 2.06.94-2.06 2.06-.94-2.06-.94-.94-2.06-.94 2.06-2.06.94zm-11 1L8.5 8.5l.94-2.06 2.06-.94-2.06-.94L8.5 2.5l-.94 2.06-2.06.94zm10 10l.94 2.06.94-2.06 2.06-.94-2.06-.94-.94-2.06-.94 2.06-2.06.94z\"/><path d=\"M17.41 7.96l-1.37-1.37c-.4-.4-.92-.59-1.43-.59-.52 0-1.04.2-1.43.59L10.3 9.45l-7.72 7.72c-.78.78-.78 2.05 0 2.83L4 21.41c.39.39.9.59 1.41.59.51 0 1.02-.2 1.41-.59l7.78-7.78 2.81-2.81c.8-.78.8-2.07 0-2.86zM5.41 20L4 18.59l7.72-7.72 1.47 1.35L5.41 20z\"/>\n",
              "  </svg>\n",
              "      </button>\n",
              "      \n",
              "  <style>\n",
              "    .colab-df-container {\n",
              "      display:flex;\n",
              "      flex-wrap:wrap;\n",
              "      gap: 12px;\n",
              "    }\n",
              "\n",
              "    .colab-df-convert {\n",
              "      background-color: #E8F0FE;\n",
              "      border: none;\n",
              "      border-radius: 50%;\n",
              "      cursor: pointer;\n",
              "      display: none;\n",
              "      fill: #1967D2;\n",
              "      height: 32px;\n",
              "      padding: 0 0 0 0;\n",
              "      width: 32px;\n",
              "    }\n",
              "\n",
              "    .colab-df-convert:hover {\n",
              "      background-color: #E2EBFA;\n",
              "      box-shadow: 0px 1px 2px rgba(60, 64, 67, 0.3), 0px 1px 3px 1px rgba(60, 64, 67, 0.15);\n",
              "      fill: #174EA6;\n",
              "    }\n",
              "\n",
              "    [theme=dark] .colab-df-convert {\n",
              "      background-color: #3B4455;\n",
              "      fill: #D2E3FC;\n",
              "    }\n",
              "\n",
              "    [theme=dark] .colab-df-convert:hover {\n",
              "      background-color: #434B5C;\n",
              "      box-shadow: 0px 1px 3px 1px rgba(0, 0, 0, 0.15);\n",
              "      filter: drop-shadow(0px 1px 2px rgba(0, 0, 0, 0.3));\n",
              "      fill: #FFFFFF;\n",
              "    }\n",
              "  </style>\n",
              "\n",
              "      <script>\n",
              "        const buttonEl =\n",
              "          document.querySelector('#df-710d5142-dd7c-4f1a-89a9-294470d5f326 button.colab-df-convert');\n",
              "        buttonEl.style.display =\n",
              "          google.colab.kernel.accessAllowed ? 'block' : 'none';\n",
              "\n",
              "        async function convertToInteractive(key) {\n",
              "          const element = document.querySelector('#df-710d5142-dd7c-4f1a-89a9-294470d5f326');\n",
              "          const dataTable =\n",
              "            await google.colab.kernel.invokeFunction('convertToInteractive',\n",
              "                                                     [key], {});\n",
              "          if (!dataTable) return;\n",
              "\n",
              "          const docLinkHtml = 'Like what you see? Visit the ' +\n",
              "            '<a target=\"_blank\" href=https://colab.research.google.com/notebooks/data_table.ipynb>data table notebook</a>'\n",
              "            + ' to learn more about interactive tables.';\n",
              "          element.innerHTML = '';\n",
              "          dataTable['output_type'] = 'display_data';\n",
              "          await google.colab.output.renderOutput(dataTable, element);\n",
              "          const docLink = document.createElement('div');\n",
              "          docLink.innerHTML = docLinkHtml;\n",
              "          element.appendChild(docLink);\n",
              "        }\n",
              "      </script>\n",
              "    </div>\n",
              "  </div>\n",
              "  "
            ]
          },
          "metadata": {},
          "execution_count": 25
        }
      ],
      "source": [
        "# Дополнительно просмотрим рандомные семплы\n",
        "\n",
        "merged_test.sample(20)"
      ]
    },
    {
      "cell_type": "markdown",
      "source": [
        "Результаты выглядят очень неплохо. Настало время сохранить их в result.parquet"
      ],
      "metadata": {
        "id": "C82K25GStdRl"
      }
    },
    {
      "cell_type": "code",
      "execution_count": null,
      "metadata": {
        "colab": {
          "base_uri": "https://localhost:8080/",
          "height": 206
        },
        "id": "kh-jE1ELvDsf",
        "outputId": "9b171053-469d-4041-e2d4-218d56df6f84"
      },
      "outputs": [
        {
          "output_type": "execute_result",
          "data": {
            "text/plain": [
              "        id  predicted_category_id\n",
              "0  1070974                  11574\n",
              "1   450413                  11878\n",
              "2   126857                  13299\n",
              "3  1577569                  13061\n",
              "4   869328                  12813"
            ],
            "text/html": [
              "\n",
              "  <div id=\"df-faaf7035-bea8-4cb8-b4fb-404bc2da06d7\">\n",
              "    <div class=\"colab-df-container\">\n",
              "      <div>\n",
              "<style scoped>\n",
              "    .dataframe tbody tr th:only-of-type {\n",
              "        vertical-align: middle;\n",
              "    }\n",
              "\n",
              "    .dataframe tbody tr th {\n",
              "        vertical-align: top;\n",
              "    }\n",
              "\n",
              "    .dataframe thead th {\n",
              "        text-align: right;\n",
              "    }\n",
              "</style>\n",
              "<table border=\"1\" class=\"dataframe\">\n",
              "  <thead>\n",
              "    <tr style=\"text-align: right;\">\n",
              "      <th></th>\n",
              "      <th>id</th>\n",
              "      <th>predicted_category_id</th>\n",
              "    </tr>\n",
              "  </thead>\n",
              "  <tbody>\n",
              "    <tr>\n",
              "      <th>0</th>\n",
              "      <td>1070974</td>\n",
              "      <td>11574</td>\n",
              "    </tr>\n",
              "    <tr>\n",
              "      <th>1</th>\n",
              "      <td>450413</td>\n",
              "      <td>11878</td>\n",
              "    </tr>\n",
              "    <tr>\n",
              "      <th>2</th>\n",
              "      <td>126857</td>\n",
              "      <td>13299</td>\n",
              "    </tr>\n",
              "    <tr>\n",
              "      <th>3</th>\n",
              "      <td>1577569</td>\n",
              "      <td>13061</td>\n",
              "    </tr>\n",
              "    <tr>\n",
              "      <th>4</th>\n",
              "      <td>869328</td>\n",
              "      <td>12813</td>\n",
              "    </tr>\n",
              "  </tbody>\n",
              "</table>\n",
              "</div>\n",
              "      <button class=\"colab-df-convert\" onclick=\"convertToInteractive('df-faaf7035-bea8-4cb8-b4fb-404bc2da06d7')\"\n",
              "              title=\"Convert this dataframe to an interactive table.\"\n",
              "              style=\"display:none;\">\n",
              "        \n",
              "  <svg xmlns=\"http://www.w3.org/2000/svg\" height=\"24px\"viewBox=\"0 0 24 24\"\n",
              "       width=\"24px\">\n",
              "    <path d=\"M0 0h24v24H0V0z\" fill=\"none\"/>\n",
              "    <path d=\"M18.56 5.44l.94 2.06.94-2.06 2.06-.94-2.06-.94-.94-2.06-.94 2.06-2.06.94zm-11 1L8.5 8.5l.94-2.06 2.06-.94-2.06-.94L8.5 2.5l-.94 2.06-2.06.94zm10 10l.94 2.06.94-2.06 2.06-.94-2.06-.94-.94-2.06-.94 2.06-2.06.94z\"/><path d=\"M17.41 7.96l-1.37-1.37c-.4-.4-.92-.59-1.43-.59-.52 0-1.04.2-1.43.59L10.3 9.45l-7.72 7.72c-.78.78-.78 2.05 0 2.83L4 21.41c.39.39.9.59 1.41.59.51 0 1.02-.2 1.41-.59l7.78-7.78 2.81-2.81c.8-.78.8-2.07 0-2.86zM5.41 20L4 18.59l7.72-7.72 1.47 1.35L5.41 20z\"/>\n",
              "  </svg>\n",
              "      </button>\n",
              "      \n",
              "  <style>\n",
              "    .colab-df-container {\n",
              "      display:flex;\n",
              "      flex-wrap:wrap;\n",
              "      gap: 12px;\n",
              "    }\n",
              "\n",
              "    .colab-df-convert {\n",
              "      background-color: #E8F0FE;\n",
              "      border: none;\n",
              "      border-radius: 50%;\n",
              "      cursor: pointer;\n",
              "      display: none;\n",
              "      fill: #1967D2;\n",
              "      height: 32px;\n",
              "      padding: 0 0 0 0;\n",
              "      width: 32px;\n",
              "    }\n",
              "\n",
              "    .colab-df-convert:hover {\n",
              "      background-color: #E2EBFA;\n",
              "      box-shadow: 0px 1px 2px rgba(60, 64, 67, 0.3), 0px 1px 3px 1px rgba(60, 64, 67, 0.15);\n",
              "      fill: #174EA6;\n",
              "    }\n",
              "\n",
              "    [theme=dark] .colab-df-convert {\n",
              "      background-color: #3B4455;\n",
              "      fill: #D2E3FC;\n",
              "    }\n",
              "\n",
              "    [theme=dark] .colab-df-convert:hover {\n",
              "      background-color: #434B5C;\n",
              "      box-shadow: 0px 1px 3px 1px rgba(0, 0, 0, 0.15);\n",
              "      filter: drop-shadow(0px 1px 2px rgba(0, 0, 0, 0.3));\n",
              "      fill: #FFFFFF;\n",
              "    }\n",
              "  </style>\n",
              "\n",
              "      <script>\n",
              "        const buttonEl =\n",
              "          document.querySelector('#df-faaf7035-bea8-4cb8-b4fb-404bc2da06d7 button.colab-df-convert');\n",
              "        buttonEl.style.display =\n",
              "          google.colab.kernel.accessAllowed ? 'block' : 'none';\n",
              "\n",
              "        async function convertToInteractive(key) {\n",
              "          const element = document.querySelector('#df-faaf7035-bea8-4cb8-b4fb-404bc2da06d7');\n",
              "          const dataTable =\n",
              "            await google.colab.kernel.invokeFunction('convertToInteractive',\n",
              "                                                     [key], {});\n",
              "          if (!dataTable) return;\n",
              "\n",
              "          const docLinkHtml = 'Like what you see? Visit the ' +\n",
              "            '<a target=\"_blank\" href=https://colab.research.google.com/notebooks/data_table.ipynb>data table notebook</a>'\n",
              "            + ' to learn more about interactive tables.';\n",
              "          element.innerHTML = '';\n",
              "          dataTable['output_type'] = 'display_data';\n",
              "          await google.colab.output.renderOutput(dataTable, element);\n",
              "          const docLink = document.createElement('div');\n",
              "          docLink.innerHTML = docLinkHtml;\n",
              "          element.appendChild(docLink);\n",
              "        }\n",
              "      </script>\n",
              "    </div>\n",
              "  </div>\n",
              "  "
            ]
          },
          "metadata": {},
          "execution_count": 26
        }
      ],
      "source": [
        "result = merged_test[['id', 'predicted_category_id']]\n",
        "result.head()"
      ]
    },
    {
      "cell_type": "code",
      "execution_count": null,
      "metadata": {
        "id": "V3OUqZ4avDsf"
      },
      "outputs": [],
      "source": [
        "result.to_parquet('result.parquet', index=False)"
      ]
    },
    {
      "cell_type": "code",
      "source": [
        ""
      ],
      "metadata": {
        "id": "n6FvSAfJExiJ"
      },
      "execution_count": null,
      "outputs": []
    }
  ],
  "metadata": {
    "accelerator": "GPU",
    "colab": {
      "name": "Marketplace item classification",
      "provenance": [],
      "collapsed_sections": [
        "jHxdYWX5e6Ix"
      ]
    },
    "kernelspec": {
      "display_name": "Python 3",
      "language": "python",
      "name": "python3"
    },
    "language_info": {
      "codemirror_mode": {
        "name": "ipython",
        "version": 3
      },
      "file_extension": ".py",
      "mimetype": "text/x-python",
      "name": "python",
      "nbconvert_exporter": "python",
      "pygments_lexer": "ipython3",
      "version": "3.6.9"
    },
    "widgets": {
      "application/vnd.jupyter.widget-state+json": {
        "166015da70e4450fb9c02ee111907015": {
          "model_module": "@jupyter-widgets/base",
          "model_module_version": "1.2.0",
          "model_name": "LayoutModel",
          "state": {
            "_model_module": "@jupyter-widgets/base",
            "_model_module_version": "1.2.0",
            "_model_name": "LayoutModel",
            "_view_count": null,
            "_view_module": "@jupyter-widgets/base",
            "_view_module_version": "1.2.0",
            "_view_name": "LayoutView",
            "align_content": null,
            "align_items": null,
            "align_self": null,
            "border": null,
            "bottom": null,
            "display": null,
            "flex": null,
            "flex_flow": null,
            "grid_area": null,
            "grid_auto_columns": null,
            "grid_auto_flow": null,
            "grid_auto_rows": null,
            "grid_column": null,
            "grid_gap": null,
            "grid_row": null,
            "grid_template_areas": null,
            "grid_template_columns": null,
            "grid_template_rows": null,
            "height": null,
            "justify_content": null,
            "justify_items": null,
            "left": null,
            "margin": null,
            "max_height": null,
            "max_width": null,
            "min_height": null,
            "min_width": null,
            "object_fit": null,
            "object_position": null,
            "order": null,
            "overflow": null,
            "overflow_x": null,
            "overflow_y": null,
            "padding": null,
            "right": null,
            "top": null,
            "visibility": null,
            "width": null
          }
        },
        "1fe0ff9fbe764d2da5d9966e0bbb43a2": {
          "model_module": "@jupyter-widgets/controls",
          "model_module_version": "1.5.0",
          "model_name": "FloatProgressModel",
          "state": {
            "_dom_classes": [],
            "_model_module": "@jupyter-widgets/controls",
            "_model_module_version": "1.5.0",
            "_model_name": "FloatProgressModel",
            "_view_count": null,
            "_view_module": "@jupyter-widgets/controls",
            "_view_module_version": "1.5.0",
            "_view_name": "ProgressView",
            "bar_style": "success",
            "description": "",
            "description_tooltip": null,
            "layout": "IPY_MODEL_851aef6353294f80b7b641dbebd1ef85",
            "max": 1649718,
            "min": 0,
            "orientation": "horizontal",
            "style": "IPY_MODEL_610603a397754b45a440f456cc985c3b",
            "value": 1649718
          }
        },
        "2581e89ae1024669b80d5bc8bf813019": {
          "model_module": "@jupyter-widgets/controls",
          "model_module_version": "1.5.0",
          "model_name": "FloatProgressModel",
          "state": {
            "_dom_classes": [],
            "_model_module": "@jupyter-widgets/controls",
            "_model_module_version": "1.5.0",
            "_model_name": "FloatProgressModel",
            "_view_count": null,
            "_view_module": "@jupyter-widgets/controls",
            "_view_module_version": "1.5.0",
            "_view_name": "ProgressView",
            "bar_style": "success",
            "description": "",
            "description_tooltip": null,
            "layout": "IPY_MODEL_c28696a5f8ab444dbdcbe8f292c5c15c",
            "max": 24,
            "min": 0,
            "orientation": "horizontal",
            "style": "IPY_MODEL_ddd517206bbe43af8b403c4cd1426b91",
            "value": 24
          }
        },
        "288b5076c88d4063aa187ab09f90f642": {
          "model_module": "@jupyter-widgets/controls",
          "model_module_version": "1.5.0",
          "model_name": "HTMLModel",
          "state": {
            "_dom_classes": [],
            "_model_module": "@jupyter-widgets/controls",
            "_model_module_version": "1.5.0",
            "_model_name": "HTMLModel",
            "_view_count": null,
            "_view_module": "@jupyter-widgets/controls",
            "_view_module_version": "1.5.0",
            "_view_name": "HTMLView",
            "description": "",
            "description_tooltip": null,
            "layout": "IPY_MODEL_a9ea40e541cf47cfb3720d40c97f7b41",
            "placeholder": "​",
            "style": "IPY_MODEL_62f73c02075c4235a82113da17d0208f",
            "value": "Downloading: 100%"
          }
        },
        "28d795ca1a82485fb4f9f5e6d1f1714e": {
          "model_module": "@jupyter-widgets/base",
          "model_module_version": "1.2.0",
          "model_name": "LayoutModel",
          "state": {
            "_model_module": "@jupyter-widgets/base",
            "_model_module_version": "1.2.0",
            "_model_name": "LayoutModel",
            "_view_count": null,
            "_view_module": "@jupyter-widgets/base",
            "_view_module_version": "1.2.0",
            "_view_name": "LayoutView",
            "align_content": null,
            "align_items": null,
            "align_self": null,
            "border": null,
            "bottom": null,
            "display": null,
            "flex": null,
            "flex_flow": null,
            "grid_area": null,
            "grid_auto_columns": null,
            "grid_auto_flow": null,
            "grid_auto_rows": null,
            "grid_column": null,
            "grid_gap": null,
            "grid_row": null,
            "grid_template_areas": null,
            "grid_template_columns": null,
            "grid_template_rows": null,
            "height": null,
            "justify_content": null,
            "justify_items": null,
            "left": null,
            "margin": null,
            "max_height": null,
            "max_width": null,
            "min_height": null,
            "min_width": null,
            "object_fit": null,
            "object_position": null,
            "order": null,
            "overflow": null,
            "overflow_x": null,
            "overflow_y": null,
            "padding": null,
            "right": null,
            "top": null,
            "visibility": null,
            "width": null
          }
        },
        "2c6159cff019410ba1ebfa5ef9073d63": {
          "model_module": "@jupyter-widgets/base",
          "model_module_version": "1.2.0",
          "model_name": "LayoutModel",
          "state": {
            "_model_module": "@jupyter-widgets/base",
            "_model_module_version": "1.2.0",
            "_model_name": "LayoutModel",
            "_view_count": null,
            "_view_module": "@jupyter-widgets/base",
            "_view_module_version": "1.2.0",
            "_view_name": "LayoutView",
            "align_content": null,
            "align_items": null,
            "align_self": null,
            "border": null,
            "bottom": null,
            "display": null,
            "flex": null,
            "flex_flow": null,
            "grid_area": null,
            "grid_auto_columns": null,
            "grid_auto_flow": null,
            "grid_auto_rows": null,
            "grid_column": null,
            "grid_gap": null,
            "grid_row": null,
            "grid_template_areas": null,
            "grid_template_columns": null,
            "grid_template_rows": null,
            "height": null,
            "justify_content": null,
            "justify_items": null,
            "left": null,
            "margin": null,
            "max_height": null,
            "max_width": null,
            "min_height": null,
            "min_width": null,
            "object_fit": null,
            "object_position": null,
            "order": null,
            "overflow": null,
            "overflow_x": null,
            "overflow_y": null,
            "padding": null,
            "right": null,
            "top": null,
            "visibility": null,
            "width": null
          }
        },
        "31aafa88be0f444eb814d966a015b351": {
          "model_module": "@jupyter-widgets/base",
          "model_module_version": "1.2.0",
          "model_name": "LayoutModel",
          "state": {
            "_model_module": "@jupyter-widgets/base",
            "_model_module_version": "1.2.0",
            "_model_name": "LayoutModel",
            "_view_count": null,
            "_view_module": "@jupyter-widgets/base",
            "_view_module_version": "1.2.0",
            "_view_name": "LayoutView",
            "align_content": null,
            "align_items": null,
            "align_self": null,
            "border": null,
            "bottom": null,
            "display": null,
            "flex": null,
            "flex_flow": null,
            "grid_area": null,
            "grid_auto_columns": null,
            "grid_auto_flow": null,
            "grid_auto_rows": null,
            "grid_column": null,
            "grid_gap": null,
            "grid_row": null,
            "grid_template_areas": null,
            "grid_template_columns": null,
            "grid_template_rows": null,
            "height": null,
            "justify_content": null,
            "justify_items": null,
            "left": null,
            "margin": null,
            "max_height": null,
            "max_width": null,
            "min_height": null,
            "min_width": null,
            "object_fit": null,
            "object_position": null,
            "order": null,
            "overflow": null,
            "overflow_x": null,
            "overflow_y": null,
            "padding": null,
            "right": null,
            "top": null,
            "visibility": null,
            "width": null
          }
        },
        "356b9ff2d48946a4b72577e747396c67": {
          "model_module": "@jupyter-widgets/base",
          "model_module_version": "1.2.0",
          "model_name": "LayoutModel",
          "state": {
            "_model_module": "@jupyter-widgets/base",
            "_model_module_version": "1.2.0",
            "_model_name": "LayoutModel",
            "_view_count": null,
            "_view_module": "@jupyter-widgets/base",
            "_view_module_version": "1.2.0",
            "_view_name": "LayoutView",
            "align_content": null,
            "align_items": null,
            "align_self": null,
            "border": null,
            "bottom": null,
            "display": null,
            "flex": null,
            "flex_flow": null,
            "grid_area": null,
            "grid_auto_columns": null,
            "grid_auto_flow": null,
            "grid_auto_rows": null,
            "grid_column": null,
            "grid_gap": null,
            "grid_row": null,
            "grid_template_areas": null,
            "grid_template_columns": null,
            "grid_template_rows": null,
            "height": null,
            "justify_content": null,
            "justify_items": null,
            "left": null,
            "margin": null,
            "max_height": null,
            "max_width": null,
            "min_height": null,
            "min_width": null,
            "object_fit": null,
            "object_position": null,
            "order": null,
            "overflow": null,
            "overflow_x": null,
            "overflow_y": null,
            "padding": null,
            "right": null,
            "top": null,
            "visibility": null,
            "width": null
          }
        },
        "469a67f6df5d4a79875e2f3c78cd4e93": {
          "model_module": "@jupyter-widgets/controls",
          "model_module_version": "1.5.0",
          "model_name": "FloatProgressModel",
          "state": {
            "_dom_classes": [],
            "_model_module": "@jupyter-widgets/controls",
            "_model_module_version": "1.5.0",
            "_model_name": "FloatProgressModel",
            "_view_count": null,
            "_view_module": "@jupyter-widgets/controls",
            "_view_module_version": "1.5.0",
            "_view_name": "ProgressView",
            "bar_style": "success",
            "description": "",
            "description_tooltip": null,
            "layout": "IPY_MODEL_28d795ca1a82485fb4f9f5e6d1f1714e",
            "max": 642,
            "min": 0,
            "orientation": "horizontal",
            "style": "IPY_MODEL_a35a584f944d4dac968edfe36291517a",
            "value": 642
          }
        },
        "4b96c918e45b4e918b164f7fe2bb67bf": {
          "model_module": "@jupyter-widgets/controls",
          "model_module_version": "1.5.0",
          "model_name": "HBoxModel",
          "state": {
            "_dom_classes": [],
            "_model_module": "@jupyter-widgets/controls",
            "_model_module_version": "1.5.0",
            "_model_name": "HBoxModel",
            "_view_count": null,
            "_view_module": "@jupyter-widgets/controls",
            "_view_module_version": "1.5.0",
            "_view_name": "HBoxView",
            "box_style": "",
            "children": [
              "IPY_MODEL_d304d738fce44f99b3ca4599bd13f5f2",
              "IPY_MODEL_9fff3a3b543c4e9eac10e08d4cf2190b",
              "IPY_MODEL_fb11e987e1c0480f83abdc01203d9d01"
            ],
            "layout": "IPY_MODEL_c40803e25ae04feda0d31d63cadbfc2c"
          }
        },
        "56475ebbf33f43599600a8050d764451": {
          "model_module": "@jupyter-widgets/base",
          "model_module_version": "1.2.0",
          "model_name": "LayoutModel",
          "state": {
            "_model_module": "@jupyter-widgets/base",
            "_model_module_version": "1.2.0",
            "_model_name": "LayoutModel",
            "_view_count": null,
            "_view_module": "@jupyter-widgets/base",
            "_view_module_version": "1.2.0",
            "_view_name": "LayoutView",
            "align_content": null,
            "align_items": null,
            "align_self": null,
            "border": null,
            "bottom": null,
            "display": null,
            "flex": null,
            "flex_flow": null,
            "grid_area": null,
            "grid_auto_columns": null,
            "grid_auto_flow": null,
            "grid_auto_rows": null,
            "grid_column": null,
            "grid_gap": null,
            "grid_row": null,
            "grid_template_areas": null,
            "grid_template_columns": null,
            "grid_template_rows": null,
            "height": null,
            "justify_content": null,
            "justify_items": null,
            "left": null,
            "margin": null,
            "max_height": null,
            "max_width": null,
            "min_height": null,
            "min_width": null,
            "object_fit": null,
            "object_position": null,
            "order": null,
            "overflow": null,
            "overflow_x": null,
            "overflow_y": null,
            "padding": null,
            "right": null,
            "top": null,
            "visibility": null,
            "width": null
          }
        },
        "610603a397754b45a440f456cc985c3b": {
          "model_module": "@jupyter-widgets/controls",
          "model_module_version": "1.5.0",
          "model_name": "ProgressStyleModel",
          "state": {
            "_model_module": "@jupyter-widgets/controls",
            "_model_module_version": "1.5.0",
            "_model_name": "ProgressStyleModel",
            "_view_count": null,
            "_view_module": "@jupyter-widgets/base",
            "_view_module_version": "1.2.0",
            "_view_name": "StyleView",
            "bar_color": null,
            "description_width": ""
          }
        },
        "62f73c02075c4235a82113da17d0208f": {
          "model_module": "@jupyter-widgets/controls",
          "model_module_version": "1.5.0",
          "model_name": "DescriptionStyleModel",
          "state": {
            "_model_module": "@jupyter-widgets/controls",
            "_model_module_version": "1.5.0",
            "_model_name": "DescriptionStyleModel",
            "_view_count": null,
            "_view_module": "@jupyter-widgets/base",
            "_view_module_version": "1.2.0",
            "_view_name": "StyleView",
            "description_width": ""
          }
        },
        "668abf5be9a04c7fb1a8fa42c937300a": {
          "model_module": "@jupyter-widgets/controls",
          "model_module_version": "1.5.0",
          "model_name": "DescriptionStyleModel",
          "state": {
            "_model_module": "@jupyter-widgets/controls",
            "_model_module_version": "1.5.0",
            "_model_name": "DescriptionStyleModel",
            "_view_count": null,
            "_view_module": "@jupyter-widgets/base",
            "_view_module_version": "1.2.0",
            "_view_name": "StyleView",
            "description_width": ""
          }
        },
        "67ba2912d24042869a2b588f2d6a89af": {
          "model_module": "@jupyter-widgets/base",
          "model_module_version": "1.2.0",
          "model_name": "LayoutModel",
          "state": {
            "_model_module": "@jupyter-widgets/base",
            "_model_module_version": "1.2.0",
            "_model_name": "LayoutModel",
            "_view_count": null,
            "_view_module": "@jupyter-widgets/base",
            "_view_module_version": "1.2.0",
            "_view_name": "LayoutView",
            "align_content": null,
            "align_items": null,
            "align_self": null,
            "border": null,
            "bottom": null,
            "display": null,
            "flex": null,
            "flex_flow": null,
            "grid_area": null,
            "grid_auto_columns": null,
            "grid_auto_flow": null,
            "grid_auto_rows": null,
            "grid_column": null,
            "grid_gap": null,
            "grid_row": null,
            "grid_template_areas": null,
            "grid_template_columns": null,
            "grid_template_rows": null,
            "height": null,
            "justify_content": null,
            "justify_items": null,
            "left": null,
            "margin": null,
            "max_height": null,
            "max_width": null,
            "min_height": null,
            "min_width": null,
            "object_fit": null,
            "object_position": null,
            "order": null,
            "overflow": null,
            "overflow_x": null,
            "overflow_y": null,
            "padding": null,
            "right": null,
            "top": null,
            "visibility": null,
            "width": null
          }
        },
        "6851d66a20874fb69f714f9579466cdd": {
          "model_module": "@jupyter-widgets/controls",
          "model_module_version": "1.5.0",
          "model_name": "DescriptionStyleModel",
          "state": {
            "_model_module": "@jupyter-widgets/controls",
            "_model_module_version": "1.5.0",
            "_model_name": "DescriptionStyleModel",
            "_view_count": null,
            "_view_module": "@jupyter-widgets/base",
            "_view_module_version": "1.2.0",
            "_view_name": "StyleView",
            "description_width": ""
          }
        },
        "6a12a2c228164f5d96ff0fe098375c2a": {
          "model_module": "@jupyter-widgets/base",
          "model_module_version": "1.2.0",
          "model_name": "LayoutModel",
          "state": {
            "_model_module": "@jupyter-widgets/base",
            "_model_module_version": "1.2.0",
            "_model_name": "LayoutModel",
            "_view_count": null,
            "_view_module": "@jupyter-widgets/base",
            "_view_module_version": "1.2.0",
            "_view_name": "LayoutView",
            "align_content": null,
            "align_items": null,
            "align_self": null,
            "border": null,
            "bottom": null,
            "display": null,
            "flex": null,
            "flex_flow": null,
            "grid_area": null,
            "grid_auto_columns": null,
            "grid_auto_flow": null,
            "grid_auto_rows": null,
            "grid_column": null,
            "grid_gap": null,
            "grid_row": null,
            "grid_template_areas": null,
            "grid_template_columns": null,
            "grid_template_rows": null,
            "height": null,
            "justify_content": null,
            "justify_items": null,
            "left": null,
            "margin": null,
            "max_height": null,
            "max_width": null,
            "min_height": null,
            "min_width": null,
            "object_fit": null,
            "object_position": null,
            "order": null,
            "overflow": null,
            "overflow_x": null,
            "overflow_y": null,
            "padding": null,
            "right": null,
            "top": null,
            "visibility": null,
            "width": null
          }
        },
        "6b6291927948445cb5cb381ee93d719f": {
          "model_module": "@jupyter-widgets/base",
          "model_module_version": "1.2.0",
          "model_name": "LayoutModel",
          "state": {
            "_model_module": "@jupyter-widgets/base",
            "_model_module_version": "1.2.0",
            "_model_name": "LayoutModel",
            "_view_count": null,
            "_view_module": "@jupyter-widgets/base",
            "_view_module_version": "1.2.0",
            "_view_name": "LayoutView",
            "align_content": null,
            "align_items": null,
            "align_self": null,
            "border": null,
            "bottom": null,
            "display": null,
            "flex": null,
            "flex_flow": null,
            "grid_area": null,
            "grid_auto_columns": null,
            "grid_auto_flow": null,
            "grid_auto_rows": null,
            "grid_column": null,
            "grid_gap": null,
            "grid_row": null,
            "grid_template_areas": null,
            "grid_template_columns": null,
            "grid_template_rows": null,
            "height": null,
            "justify_content": null,
            "justify_items": null,
            "left": null,
            "margin": null,
            "max_height": null,
            "max_width": null,
            "min_height": null,
            "min_width": null,
            "object_fit": null,
            "object_position": null,
            "order": null,
            "overflow": null,
            "overflow_x": null,
            "overflow_y": null,
            "padding": null,
            "right": null,
            "top": null,
            "visibility": null,
            "width": null
          }
        },
        "851aef6353294f80b7b641dbebd1ef85": {
          "model_module": "@jupyter-widgets/base",
          "model_module_version": "1.2.0",
          "model_name": "LayoutModel",
          "state": {
            "_model_module": "@jupyter-widgets/base",
            "_model_module_version": "1.2.0",
            "_model_name": "LayoutModel",
            "_view_count": null,
            "_view_module": "@jupyter-widgets/base",
            "_view_module_version": "1.2.0",
            "_view_name": "LayoutView",
            "align_content": null,
            "align_items": null,
            "align_self": null,
            "border": null,
            "bottom": null,
            "display": null,
            "flex": null,
            "flex_flow": null,
            "grid_area": null,
            "grid_auto_columns": null,
            "grid_auto_flow": null,
            "grid_auto_rows": null,
            "grid_column": null,
            "grid_gap": null,
            "grid_row": null,
            "grid_template_areas": null,
            "grid_template_columns": null,
            "grid_template_rows": null,
            "height": null,
            "justify_content": null,
            "justify_items": null,
            "left": null,
            "margin": null,
            "max_height": null,
            "max_width": null,
            "min_height": null,
            "min_width": null,
            "object_fit": null,
            "object_position": null,
            "order": null,
            "overflow": null,
            "overflow_x": null,
            "overflow_y": null,
            "padding": null,
            "right": null,
            "top": null,
            "visibility": null,
            "width": null
          }
        },
        "8f45cb3e37614efb92faf9586d127721": {
          "model_module": "@jupyter-widgets/controls",
          "model_module_version": "1.5.0",
          "model_name": "HTMLModel",
          "state": {
            "_dom_classes": [],
            "_model_module": "@jupyter-widgets/controls",
            "_model_module_version": "1.5.0",
            "_model_name": "HTMLModel",
            "_view_count": null,
            "_view_module": "@jupyter-widgets/controls",
            "_view_module_version": "1.5.0",
            "_view_name": "HTMLView",
            "description": "",
            "description_tooltip": null,
            "layout": "IPY_MODEL_6a12a2c228164f5d96ff0fe098375c2a",
            "placeholder": "​",
            "style": "IPY_MODEL_c8b3872339de49a89a092156b1d76364",
            "value": " 1.57M/1.57M [00:01&lt;00:00, 1.18MB/s]"
          }
        },
        "8fff22a47f8d4e36b6f1866d5b847da9": {
          "model_module": "@jupyter-widgets/controls",
          "model_module_version": "1.5.0",
          "model_name": "HBoxModel",
          "state": {
            "_dom_classes": [],
            "_model_module": "@jupyter-widgets/controls",
            "_model_module_version": "1.5.0",
            "_model_name": "HBoxModel",
            "_view_count": null,
            "_view_module": "@jupyter-widgets/controls",
            "_view_module_version": "1.5.0",
            "_view_name": "HBoxView",
            "box_style": "",
            "children": [
              "IPY_MODEL_288b5076c88d4063aa187ab09f90f642",
              "IPY_MODEL_2581e89ae1024669b80d5bc8bf813019",
              "IPY_MODEL_972acf7d4bc94cdba1dc40a66aa6179f"
            ],
            "layout": "IPY_MODEL_2c6159cff019410ba1ebfa5ef9073d63"
          }
        },
        "972acf7d4bc94cdba1dc40a66aa6179f": {
          "model_module": "@jupyter-widgets/controls",
          "model_module_version": "1.5.0",
          "model_name": "HTMLModel",
          "state": {
            "_dom_classes": [],
            "_model_module": "@jupyter-widgets/controls",
            "_model_module_version": "1.5.0",
            "_model_name": "HTMLModel",
            "_view_count": null,
            "_view_module": "@jupyter-widgets/controls",
            "_view_module_version": "1.5.0",
            "_view_name": "HTMLView",
            "description": "",
            "description_tooltip": null,
            "layout": "IPY_MODEL_afa055549fab421f9ee4f21470527ddb",
            "placeholder": "​",
            "style": "IPY_MODEL_d588ea72f56749f7b2859362c80e41ea",
            "value": " 24.0/24.0 [00:00&lt;00:00, 564B/s]"
          }
        },
        "98511ae0d4d14ebebc4e5c82cd2f90d4": {
          "model_module": "@jupyter-widgets/controls",
          "model_module_version": "1.5.0",
          "model_name": "DescriptionStyleModel",
          "state": {
            "_model_module": "@jupyter-widgets/controls",
            "_model_module_version": "1.5.0",
            "_model_name": "DescriptionStyleModel",
            "_view_count": null,
            "_view_module": "@jupyter-widgets/base",
            "_view_module_version": "1.2.0",
            "_view_name": "StyleView",
            "description_width": ""
          }
        },
        "9a9536dcb4e54350b633149dccd94a0f": {
          "model_module": "@jupyter-widgets/controls",
          "model_module_version": "1.5.0",
          "model_name": "ProgressStyleModel",
          "state": {
            "_model_module": "@jupyter-widgets/controls",
            "_model_module_version": "1.5.0",
            "_model_name": "ProgressStyleModel",
            "_view_count": null,
            "_view_module": "@jupyter-widgets/base",
            "_view_module_version": "1.2.0",
            "_view_name": "StyleView",
            "bar_color": null,
            "description_width": ""
          }
        },
        "9fff3a3b543c4e9eac10e08d4cf2190b": {
          "model_module": "@jupyter-widgets/controls",
          "model_module_version": "1.5.0",
          "model_name": "FloatProgressModel",
          "state": {
            "_dom_classes": [],
            "_model_module": "@jupyter-widgets/controls",
            "_model_module_version": "1.5.0",
            "_model_name": "FloatProgressModel",
            "_view_count": null,
            "_view_module": "@jupyter-widgets/controls",
            "_view_module_version": "1.5.0",
            "_view_name": "ProgressView",
            "bar_style": "success",
            "description": "",
            "description_tooltip": null,
            "layout": "IPY_MODEL_6b6291927948445cb5cb381ee93d719f",
            "max": 112,
            "min": 0,
            "orientation": "horizontal",
            "style": "IPY_MODEL_9a9536dcb4e54350b633149dccd94a0f",
            "value": 112
          }
        },
        "a35a584f944d4dac968edfe36291517a": {
          "model_module": "@jupyter-widgets/controls",
          "model_module_version": "1.5.0",
          "model_name": "ProgressStyleModel",
          "state": {
            "_model_module": "@jupyter-widgets/controls",
            "_model_module_version": "1.5.0",
            "_model_name": "ProgressStyleModel",
            "_view_count": null,
            "_view_module": "@jupyter-widgets/base",
            "_view_module_version": "1.2.0",
            "_view_name": "StyleView",
            "bar_color": null,
            "description_width": ""
          }
        },
        "a4966e699dd2414b8907c34fba906b5b": {
          "model_module": "@jupyter-widgets/controls",
          "model_module_version": "1.5.0",
          "model_name": "HTMLModel",
          "state": {
            "_dom_classes": [],
            "_model_module": "@jupyter-widgets/controls",
            "_model_module_version": "1.5.0",
            "_model_name": "HTMLModel",
            "_view_count": null,
            "_view_module": "@jupyter-widgets/controls",
            "_view_module_version": "1.5.0",
            "_view_name": "HTMLView",
            "description": "",
            "description_tooltip": null,
            "layout": "IPY_MODEL_56475ebbf33f43599600a8050d764451",
            "placeholder": "​",
            "style": "IPY_MODEL_98511ae0d4d14ebebc4e5c82cd2f90d4",
            "value": " 642/642 [00:00&lt;00:00, 15.3kB/s]"
          }
        },
        "a5107f30885b4bd2909414ec36ea1f4c": {
          "model_module": "@jupyter-widgets/controls",
          "model_module_version": "1.5.0",
          "model_name": "HTMLModel",
          "state": {
            "_dom_classes": [],
            "_model_module": "@jupyter-widgets/controls",
            "_model_module_version": "1.5.0",
            "_model_name": "HTMLModel",
            "_view_count": null,
            "_view_module": "@jupyter-widgets/controls",
            "_view_module_version": "1.5.0",
            "_view_name": "HTMLView",
            "description": "",
            "description_tooltip": null,
            "layout": "IPY_MODEL_31aafa88be0f444eb814d966a015b351",
            "placeholder": "​",
            "style": "IPY_MODEL_668abf5be9a04c7fb1a8fa42c937300a",
            "value": "Downloading: 100%"
          }
        },
        "a9ea40e541cf47cfb3720d40c97f7b41": {
          "model_module": "@jupyter-widgets/base",
          "model_module_version": "1.2.0",
          "model_name": "LayoutModel",
          "state": {
            "_model_module": "@jupyter-widgets/base",
            "_model_module_version": "1.2.0",
            "_model_name": "LayoutModel",
            "_view_count": null,
            "_view_module": "@jupyter-widgets/base",
            "_view_module_version": "1.2.0",
            "_view_name": "LayoutView",
            "align_content": null,
            "align_items": null,
            "align_self": null,
            "border": null,
            "bottom": null,
            "display": null,
            "flex": null,
            "flex_flow": null,
            "grid_area": null,
            "grid_auto_columns": null,
            "grid_auto_flow": null,
            "grid_auto_rows": null,
            "grid_column": null,
            "grid_gap": null,
            "grid_row": null,
            "grid_template_areas": null,
            "grid_template_columns": null,
            "grid_template_rows": null,
            "height": null,
            "justify_content": null,
            "justify_items": null,
            "left": null,
            "margin": null,
            "max_height": null,
            "max_width": null,
            "min_height": null,
            "min_width": null,
            "object_fit": null,
            "object_position": null,
            "order": null,
            "overflow": null,
            "overflow_x": null,
            "overflow_y": null,
            "padding": null,
            "right": null,
            "top": null,
            "visibility": null,
            "width": null
          }
        },
        "af28ebc6439a4ead801347412a7ba231": {
          "model_module": "@jupyter-widgets/base",
          "model_module_version": "1.2.0",
          "model_name": "LayoutModel",
          "state": {
            "_model_module": "@jupyter-widgets/base",
            "_model_module_version": "1.2.0",
            "_model_name": "LayoutModel",
            "_view_count": null,
            "_view_module": "@jupyter-widgets/base",
            "_view_module_version": "1.2.0",
            "_view_name": "LayoutView",
            "align_content": null,
            "align_items": null,
            "align_self": null,
            "border": null,
            "bottom": null,
            "display": null,
            "flex": null,
            "flex_flow": null,
            "grid_area": null,
            "grid_auto_columns": null,
            "grid_auto_flow": null,
            "grid_auto_rows": null,
            "grid_column": null,
            "grid_gap": null,
            "grid_row": null,
            "grid_template_areas": null,
            "grid_template_columns": null,
            "grid_template_rows": null,
            "height": null,
            "justify_content": null,
            "justify_items": null,
            "left": null,
            "margin": null,
            "max_height": null,
            "max_width": null,
            "min_height": null,
            "min_width": null,
            "object_fit": null,
            "object_position": null,
            "order": null,
            "overflow": null,
            "overflow_x": null,
            "overflow_y": null,
            "padding": null,
            "right": null,
            "top": null,
            "visibility": null,
            "width": null
          }
        },
        "afa055549fab421f9ee4f21470527ddb": {
          "model_module": "@jupyter-widgets/base",
          "model_module_version": "1.2.0",
          "model_name": "LayoutModel",
          "state": {
            "_model_module": "@jupyter-widgets/base",
            "_model_module_version": "1.2.0",
            "_model_name": "LayoutModel",
            "_view_count": null,
            "_view_module": "@jupyter-widgets/base",
            "_view_module_version": "1.2.0",
            "_view_name": "LayoutView",
            "align_content": null,
            "align_items": null,
            "align_self": null,
            "border": null,
            "bottom": null,
            "display": null,
            "flex": null,
            "flex_flow": null,
            "grid_area": null,
            "grid_auto_columns": null,
            "grid_auto_flow": null,
            "grid_auto_rows": null,
            "grid_column": null,
            "grid_gap": null,
            "grid_row": null,
            "grid_template_areas": null,
            "grid_template_columns": null,
            "grid_template_rows": null,
            "height": null,
            "justify_content": null,
            "justify_items": null,
            "left": null,
            "margin": null,
            "max_height": null,
            "max_width": null,
            "min_height": null,
            "min_width": null,
            "object_fit": null,
            "object_position": null,
            "order": null,
            "overflow": null,
            "overflow_x": null,
            "overflow_y": null,
            "padding": null,
            "right": null,
            "top": null,
            "visibility": null,
            "width": null
          }
        },
        "b010b305e0d4429aabede69c015d1911": {
          "model_module": "@jupyter-widgets/controls",
          "model_module_version": "1.5.0",
          "model_name": "HTMLModel",
          "state": {
            "_dom_classes": [],
            "_model_module": "@jupyter-widgets/controls",
            "_model_module_version": "1.5.0",
            "_model_name": "HTMLModel",
            "_view_count": null,
            "_view_module": "@jupyter-widgets/controls",
            "_view_module_version": "1.5.0",
            "_view_name": "HTMLView",
            "description": "",
            "description_tooltip": null,
            "layout": "IPY_MODEL_af28ebc6439a4ead801347412a7ba231",
            "placeholder": "​",
            "style": "IPY_MODEL_b90ec970706a401eaaea0a6bee0d2937",
            "value": "Downloading: 100%"
          }
        },
        "b90ec970706a401eaaea0a6bee0d2937": {
          "model_module": "@jupyter-widgets/controls",
          "model_module_version": "1.5.0",
          "model_name": "DescriptionStyleModel",
          "state": {
            "_model_module": "@jupyter-widgets/controls",
            "_model_module_version": "1.5.0",
            "_model_name": "DescriptionStyleModel",
            "_view_count": null,
            "_view_module": "@jupyter-widgets/base",
            "_view_module_version": "1.2.0",
            "_view_name": "StyleView",
            "description_width": ""
          }
        },
        "be9f9824c9cf4a39934d24c055092408": {
          "model_module": "@jupyter-widgets/controls",
          "model_module_version": "1.5.0",
          "model_name": "HBoxModel",
          "state": {
            "_dom_classes": [],
            "_model_module": "@jupyter-widgets/controls",
            "_model_module_version": "1.5.0",
            "_model_name": "HBoxModel",
            "_view_count": null,
            "_view_module": "@jupyter-widgets/controls",
            "_view_module_version": "1.5.0",
            "_view_name": "HBoxView",
            "box_style": "",
            "children": [
              "IPY_MODEL_a5107f30885b4bd2909414ec36ea1f4c",
              "IPY_MODEL_469a67f6df5d4a79875e2f3c78cd4e93",
              "IPY_MODEL_a4966e699dd2414b8907c34fba906b5b"
            ],
            "layout": "IPY_MODEL_d5d82e9a893a4817b165f6824bade738"
          }
        },
        "c28696a5f8ab444dbdcbe8f292c5c15c": {
          "model_module": "@jupyter-widgets/base",
          "model_module_version": "1.2.0",
          "model_name": "LayoutModel",
          "state": {
            "_model_module": "@jupyter-widgets/base",
            "_model_module_version": "1.2.0",
            "_model_name": "LayoutModel",
            "_view_count": null,
            "_view_module": "@jupyter-widgets/base",
            "_view_module_version": "1.2.0",
            "_view_name": "LayoutView",
            "align_content": null,
            "align_items": null,
            "align_self": null,
            "border": null,
            "bottom": null,
            "display": null,
            "flex": null,
            "flex_flow": null,
            "grid_area": null,
            "grid_auto_columns": null,
            "grid_auto_flow": null,
            "grid_auto_rows": null,
            "grid_column": null,
            "grid_gap": null,
            "grid_row": null,
            "grid_template_areas": null,
            "grid_template_columns": null,
            "grid_template_rows": null,
            "height": null,
            "justify_content": null,
            "justify_items": null,
            "left": null,
            "margin": null,
            "max_height": null,
            "max_width": null,
            "min_height": null,
            "min_width": null,
            "object_fit": null,
            "object_position": null,
            "order": null,
            "overflow": null,
            "overflow_x": null,
            "overflow_y": null,
            "padding": null,
            "right": null,
            "top": null,
            "visibility": null,
            "width": null
          }
        },
        "c40803e25ae04feda0d31d63cadbfc2c": {
          "model_module": "@jupyter-widgets/base",
          "model_module_version": "1.2.0",
          "model_name": "LayoutModel",
          "state": {
            "_model_module": "@jupyter-widgets/base",
            "_model_module_version": "1.2.0",
            "_model_name": "LayoutModel",
            "_view_count": null,
            "_view_module": "@jupyter-widgets/base",
            "_view_module_version": "1.2.0",
            "_view_name": "LayoutView",
            "align_content": null,
            "align_items": null,
            "align_self": null,
            "border": null,
            "bottom": null,
            "display": null,
            "flex": null,
            "flex_flow": null,
            "grid_area": null,
            "grid_auto_columns": null,
            "grid_auto_flow": null,
            "grid_auto_rows": null,
            "grid_column": null,
            "grid_gap": null,
            "grid_row": null,
            "grid_template_areas": null,
            "grid_template_columns": null,
            "grid_template_rows": null,
            "height": null,
            "justify_content": null,
            "justify_items": null,
            "left": null,
            "margin": null,
            "max_height": null,
            "max_width": null,
            "min_height": null,
            "min_width": null,
            "object_fit": null,
            "object_position": null,
            "order": null,
            "overflow": null,
            "overflow_x": null,
            "overflow_y": null,
            "padding": null,
            "right": null,
            "top": null,
            "visibility": null,
            "width": null
          }
        },
        "c4960d404c4c455c8767fea43f41e53d": {
          "model_module": "@jupyter-widgets/controls",
          "model_module_version": "1.5.0",
          "model_name": "HBoxModel",
          "state": {
            "_dom_classes": [],
            "_model_module": "@jupyter-widgets/controls",
            "_model_module_version": "1.5.0",
            "_model_name": "HBoxModel",
            "_view_count": null,
            "_view_module": "@jupyter-widgets/controls",
            "_view_module_version": "1.5.0",
            "_view_name": "HBoxView",
            "box_style": "",
            "children": [
              "IPY_MODEL_b010b305e0d4429aabede69c015d1911",
              "IPY_MODEL_1fe0ff9fbe764d2da5d9966e0bbb43a2",
              "IPY_MODEL_8f45cb3e37614efb92faf9586d127721"
            ],
            "layout": "IPY_MODEL_166015da70e4450fb9c02ee111907015"
          }
        },
        "c8b3872339de49a89a092156b1d76364": {
          "model_module": "@jupyter-widgets/controls",
          "model_module_version": "1.5.0",
          "model_name": "DescriptionStyleModel",
          "state": {
            "_model_module": "@jupyter-widgets/controls",
            "_model_module_version": "1.5.0",
            "_model_name": "DescriptionStyleModel",
            "_view_count": null,
            "_view_module": "@jupyter-widgets/base",
            "_view_module_version": "1.2.0",
            "_view_name": "StyleView",
            "description_width": ""
          }
        },
        "d304d738fce44f99b3ca4599bd13f5f2": {
          "model_module": "@jupyter-widgets/controls",
          "model_module_version": "1.5.0",
          "model_name": "HTMLModel",
          "state": {
            "_dom_classes": [],
            "_model_module": "@jupyter-widgets/controls",
            "_model_module_version": "1.5.0",
            "_model_name": "HTMLModel",
            "_view_count": null,
            "_view_module": "@jupyter-widgets/controls",
            "_view_module_version": "1.5.0",
            "_view_name": "HTMLView",
            "description": "",
            "description_tooltip": null,
            "layout": "IPY_MODEL_356b9ff2d48946a4b72577e747396c67",
            "placeholder": "​",
            "style": "IPY_MODEL_6851d66a20874fb69f714f9579466cdd",
            "value": "Downloading: 100%"
          }
        },
        "d588ea72f56749f7b2859362c80e41ea": {
          "model_module": "@jupyter-widgets/controls",
          "model_module_version": "1.5.0",
          "model_name": "DescriptionStyleModel",
          "state": {
            "_model_module": "@jupyter-widgets/controls",
            "_model_module_version": "1.5.0",
            "_model_name": "DescriptionStyleModel",
            "_view_count": null,
            "_view_module": "@jupyter-widgets/base",
            "_view_module_version": "1.2.0",
            "_view_name": "StyleView",
            "description_width": ""
          }
        },
        "d5d82e9a893a4817b165f6824bade738": {
          "model_module": "@jupyter-widgets/base",
          "model_module_version": "1.2.0",
          "model_name": "LayoutModel",
          "state": {
            "_model_module": "@jupyter-widgets/base",
            "_model_module_version": "1.2.0",
            "_model_name": "LayoutModel",
            "_view_count": null,
            "_view_module": "@jupyter-widgets/base",
            "_view_module_version": "1.2.0",
            "_view_name": "LayoutView",
            "align_content": null,
            "align_items": null,
            "align_self": null,
            "border": null,
            "bottom": null,
            "display": null,
            "flex": null,
            "flex_flow": null,
            "grid_area": null,
            "grid_auto_columns": null,
            "grid_auto_flow": null,
            "grid_auto_rows": null,
            "grid_column": null,
            "grid_gap": null,
            "grid_row": null,
            "grid_template_areas": null,
            "grid_template_columns": null,
            "grid_template_rows": null,
            "height": null,
            "justify_content": null,
            "justify_items": null,
            "left": null,
            "margin": null,
            "max_height": null,
            "max_width": null,
            "min_height": null,
            "min_width": null,
            "object_fit": null,
            "object_position": null,
            "order": null,
            "overflow": null,
            "overflow_x": null,
            "overflow_y": null,
            "padding": null,
            "right": null,
            "top": null,
            "visibility": null,
            "width": null
          }
        },
        "ddd517206bbe43af8b403c4cd1426b91": {
          "model_module": "@jupyter-widgets/controls",
          "model_module_version": "1.5.0",
          "model_name": "ProgressStyleModel",
          "state": {
            "_model_module": "@jupyter-widgets/controls",
            "_model_module_version": "1.5.0",
            "_model_name": "ProgressStyleModel",
            "_view_count": null,
            "_view_module": "@jupyter-widgets/base",
            "_view_module_version": "1.2.0",
            "_view_name": "StyleView",
            "bar_color": null,
            "description_width": ""
          }
        },
        "ec3a3e792f2e4fb9afc6e7378f278276": {
          "model_module": "@jupyter-widgets/controls",
          "model_module_version": "1.5.0",
          "model_name": "DescriptionStyleModel",
          "state": {
            "_model_module": "@jupyter-widgets/controls",
            "_model_module_version": "1.5.0",
            "_model_name": "DescriptionStyleModel",
            "_view_count": null,
            "_view_module": "@jupyter-widgets/base",
            "_view_module_version": "1.2.0",
            "_view_name": "StyleView",
            "description_width": ""
          }
        },
        "fb11e987e1c0480f83abdc01203d9d01": {
          "model_module": "@jupyter-widgets/controls",
          "model_module_version": "1.5.0",
          "model_name": "HTMLModel",
          "state": {
            "_dom_classes": [],
            "_model_module": "@jupyter-widgets/controls",
            "_model_module_version": "1.5.0",
            "_model_name": "HTMLModel",
            "_view_count": null,
            "_view_module": "@jupyter-widgets/controls",
            "_view_module_version": "1.5.0",
            "_view_name": "HTMLView",
            "description": "",
            "description_tooltip": null,
            "layout": "IPY_MODEL_67ba2912d24042869a2b588f2d6a89af",
            "placeholder": "​",
            "style": "IPY_MODEL_ec3a3e792f2e4fb9afc6e7378f278276",
            "value": " 112/112 [00:00&lt;00:00, 2.66kB/s]"
          }
        }
      }
    }
  },
  "nbformat": 4,
  "nbformat_minor": 0
}